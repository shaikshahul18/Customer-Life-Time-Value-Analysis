{
 "cells": [
  {
   "cell_type": "markdown",
   "metadata": {},
   "source": [
    "# IMPORTING LIBRARIES."
   ]
  },
  {
   "cell_type": "code",
   "execution_count": 27,
   "metadata": {},
   "outputs": [],
   "source": [
    "import numpy as np\n",
    "import pandas as pd\n",
    "import matplotlib.pyplot as plt\n",
    "import seaborn as sns\n",
    "import warnings\n",
    "warnings.filterwarnings('ignore')"
   ]
  },
  {
   "cell_type": "code",
   "execution_count": 28,
   "metadata": {},
   "outputs": [],
   "source": [
    "pd.set_option('display.max_columns',999)"
   ]
  },
  {
   "cell_type": "code",
   "execution_count": 29,
   "metadata": {},
   "outputs": [],
   "source": [
    "import statsmodels.api as sm"
   ]
  },
  {
   "cell_type": "code",
   "execution_count": 30,
   "metadata": {},
   "outputs": [],
   "source": [
    "from sklearn.preprocessing import LabelEncoder\n",
    "le = LabelEncoder()"
   ]
  },
  {
   "cell_type": "code",
   "execution_count": 31,
   "metadata": {},
   "outputs": [],
   "source": [
    "from sklearn.model_selection import train_test_split\n",
    "from sklearn.model_selection import GridSearchCV"
   ]
  },
  {
   "cell_type": "code",
   "execution_count": 32,
   "metadata": {},
   "outputs": [],
   "source": [
    "from sklearn.linear_model import LinearRegression\n",
    "lr = LinearRegression()"
   ]
  },
  {
   "cell_type": "code",
   "execution_count": 33,
   "metadata": {},
   "outputs": [],
   "source": [
    "from sklearn.metrics import r2_score\n",
    "from sklearn.metrics import mean_absolute_error\n",
    "from sklearn.metrics import mean_squared_error\n",
    "from sklearn.metrics import mean_absolute_error"
   ]
  },
  {
   "cell_type": "code",
   "execution_count": 34,
   "metadata": {},
   "outputs": [],
   "source": [
    "def mean_absolute_percentage_error(y_true, y_pred): \n",
    "    y_true, y_pred = np.array(y_true), np.array(y_pred)\n",
    "    return np.mean(np.abs((y_true - y_pred) / y_true)) * 100"
   ]
  },
  {
   "cell_type": "code",
   "execution_count": 35,
   "metadata": {},
   "outputs": [],
   "source": [
    "import statsmodels.stats.api as sms\n",
    "from statsmodels.compat import lzip"
   ]
  },
  {
   "cell_type": "code",
   "execution_count": 36,
   "metadata": {},
   "outputs": [],
   "source": [
    "from statsmodels.stats import diagnostic as diag\n",
    "from statsmodels.stats.outliers_influence import variance_inflation_factor"
   ]
  },
  {
   "cell_type": "code",
   "execution_count": 37,
   "metadata": {},
   "outputs": [],
   "source": [
    "from scipy.stats import normaltest,f_oneway\n",
    "from scipy.stats import ttest_ind"
   ]
  },
  {
   "cell_type": "code",
   "execution_count": 38,
   "metadata": {},
   "outputs": [],
   "source": [
    "from mlxtend.feature_selection import SequentialFeatureSelector as SFS\n",
    "from mlxtend.plotting import plot_sequential_feature_selection as plot_sfs"
   ]
  },
  {
   "cell_type": "code",
   "execution_count": 39,
   "metadata": {},
   "outputs": [],
   "source": [
    "from sklearn.tree import DecisionTreeRegressor\n",
    "from sklearn.tree import ExtraTreeRegressor"
   ]
  },
  {
   "cell_type": "code",
   "execution_count": 40,
   "metadata": {},
   "outputs": [],
   "source": [
    "dt = DecisionTreeRegressor()\n",
    "et = ExtraTreeRegressor()"
   ]
  },
  {
   "cell_type": "code",
   "execution_count": 41,
   "metadata": {},
   "outputs": [],
   "source": [
    "from sklearn.ensemble import AdaBoostRegressor\n",
    "from sklearn.ensemble import BaggingRegressor\n",
    "from sklearn.ensemble import ExtraTreesRegressor\n",
    "from sklearn.ensemble import GradientBoostingRegressor\n",
    "from sklearn.ensemble import RandomForestRegressor"
   ]
  },
  {
   "cell_type": "code",
   "execution_count": 42,
   "metadata": {},
   "outputs": [],
   "source": [
    "abr = AdaBoostRegressor()\n",
    "br = BaggingRegressor()\n",
    "etr = ExtraTreesRegressor()\n",
    "gbr = GradientBoostingRegressor()\n",
    "rfr = RandomForestRegressor()"
   ]
  },
  {
   "cell_type": "code",
   "execution_count": 43,
   "metadata": {},
   "outputs": [],
   "source": [
    "from sklearn.model_selection import GridSearchCV"
   ]
  },
  {
   "cell_type": "code",
   "execution_count": 44,
   "metadata": {},
   "outputs": [],
   "source": [
    "from sklearn.model_selection import KFold"
   ]
  },
  {
   "cell_type": "markdown",
   "metadata": {},
   "source": [
    "# READING THE DATA SET."
   ]
  },
  {
   "cell_type": "code",
   "execution_count": 45,
   "metadata": {},
   "outputs": [
    {
     "data": {
      "text/html": [
       "<div>\n",
       "<style scoped>\n",
       "    .dataframe tbody tr th:only-of-type {\n",
       "        vertical-align: middle;\n",
       "    }\n",
       "\n",
       "    .dataframe tbody tr th {\n",
       "        vertical-align: top;\n",
       "    }\n",
       "\n",
       "    .dataframe thead th {\n",
       "        text-align: right;\n",
       "    }\n",
       "</style>\n",
       "<table border=\"1\" class=\"dataframe\">\n",
       "  <thead>\n",
       "    <tr style=\"text-align: right;\">\n",
       "      <th></th>\n",
       "      <th>Customer</th>\n",
       "      <th>State</th>\n",
       "      <th>Customer Lifetime Value</th>\n",
       "      <th>Response</th>\n",
       "      <th>Coverage</th>\n",
       "      <th>Education</th>\n",
       "      <th>Effective To Date</th>\n",
       "      <th>EmploymentStatus</th>\n",
       "      <th>Gender</th>\n",
       "      <th>Income</th>\n",
       "      <th>Location Code</th>\n",
       "      <th>Marital Status</th>\n",
       "      <th>Monthly Premium Auto</th>\n",
       "      <th>Months Since Last Claim</th>\n",
       "      <th>Months Since Policy Inception</th>\n",
       "      <th>Number of Open Complaints</th>\n",
       "      <th>Number of Policies</th>\n",
       "      <th>Policy Type</th>\n",
       "      <th>Policy</th>\n",
       "      <th>Renew Offer Type</th>\n",
       "      <th>Sales Channel</th>\n",
       "      <th>Total Claim Amount</th>\n",
       "      <th>Vehicle Class</th>\n",
       "      <th>Vehicle Size</th>\n",
       "    </tr>\n",
       "  </thead>\n",
       "  <tbody>\n",
       "    <tr>\n",
       "      <th>0</th>\n",
       "      <td>BU79786</td>\n",
       "      <td>Washington</td>\n",
       "      <td>2763.519279</td>\n",
       "      <td>No</td>\n",
       "      <td>Basic</td>\n",
       "      <td>Bachelor</td>\n",
       "      <td>2/24/2011</td>\n",
       "      <td>Employed</td>\n",
       "      <td>F</td>\n",
       "      <td>56274</td>\n",
       "      <td>Suburban</td>\n",
       "      <td>Married</td>\n",
       "      <td>69</td>\n",
       "      <td>32</td>\n",
       "      <td>5</td>\n",
       "      <td>0</td>\n",
       "      <td>1</td>\n",
       "      <td>Corporate Auto</td>\n",
       "      <td>Corporate L3</td>\n",
       "      <td>Offer1</td>\n",
       "      <td>Agent</td>\n",
       "      <td>384.811147</td>\n",
       "      <td>Two-Door Car</td>\n",
       "      <td>Medsize</td>\n",
       "    </tr>\n",
       "    <tr>\n",
       "      <th>1</th>\n",
       "      <td>QZ44356</td>\n",
       "      <td>Arizona</td>\n",
       "      <td>6979.535903</td>\n",
       "      <td>No</td>\n",
       "      <td>Extended</td>\n",
       "      <td>Bachelor</td>\n",
       "      <td>1/31/2011</td>\n",
       "      <td>Unemployed</td>\n",
       "      <td>F</td>\n",
       "      <td>0</td>\n",
       "      <td>Suburban</td>\n",
       "      <td>Single</td>\n",
       "      <td>94</td>\n",
       "      <td>13</td>\n",
       "      <td>42</td>\n",
       "      <td>0</td>\n",
       "      <td>8</td>\n",
       "      <td>Personal Auto</td>\n",
       "      <td>Personal L3</td>\n",
       "      <td>Offer3</td>\n",
       "      <td>Agent</td>\n",
       "      <td>1131.464935</td>\n",
       "      <td>Four-Door Car</td>\n",
       "      <td>Medsize</td>\n",
       "    </tr>\n",
       "    <tr>\n",
       "      <th>2</th>\n",
       "      <td>AI49188</td>\n",
       "      <td>Nevada</td>\n",
       "      <td>12887.431650</td>\n",
       "      <td>No</td>\n",
       "      <td>Premium</td>\n",
       "      <td>Bachelor</td>\n",
       "      <td>2/19/2011</td>\n",
       "      <td>Employed</td>\n",
       "      <td>F</td>\n",
       "      <td>48767</td>\n",
       "      <td>Suburban</td>\n",
       "      <td>Married</td>\n",
       "      <td>108</td>\n",
       "      <td>18</td>\n",
       "      <td>38</td>\n",
       "      <td>0</td>\n",
       "      <td>2</td>\n",
       "      <td>Personal Auto</td>\n",
       "      <td>Personal L3</td>\n",
       "      <td>Offer1</td>\n",
       "      <td>Agent</td>\n",
       "      <td>566.472247</td>\n",
       "      <td>Two-Door Car</td>\n",
       "      <td>Medsize</td>\n",
       "    </tr>\n",
       "    <tr>\n",
       "      <th>3</th>\n",
       "      <td>WW63253</td>\n",
       "      <td>California</td>\n",
       "      <td>7645.861827</td>\n",
       "      <td>No</td>\n",
       "      <td>Basic</td>\n",
       "      <td>Bachelor</td>\n",
       "      <td>1/20/2011</td>\n",
       "      <td>Unemployed</td>\n",
       "      <td>M</td>\n",
       "      <td>0</td>\n",
       "      <td>Suburban</td>\n",
       "      <td>Married</td>\n",
       "      <td>106</td>\n",
       "      <td>18</td>\n",
       "      <td>65</td>\n",
       "      <td>0</td>\n",
       "      <td>7</td>\n",
       "      <td>Corporate Auto</td>\n",
       "      <td>Corporate L2</td>\n",
       "      <td>Offer1</td>\n",
       "      <td>Call Center</td>\n",
       "      <td>529.881344</td>\n",
       "      <td>SUV</td>\n",
       "      <td>Medsize</td>\n",
       "    </tr>\n",
       "    <tr>\n",
       "      <th>4</th>\n",
       "      <td>HB64268</td>\n",
       "      <td>Washington</td>\n",
       "      <td>2813.692575</td>\n",
       "      <td>No</td>\n",
       "      <td>Basic</td>\n",
       "      <td>Bachelor</td>\n",
       "      <td>02-03-2011</td>\n",
       "      <td>Employed</td>\n",
       "      <td>M</td>\n",
       "      <td>43836</td>\n",
       "      <td>Rural</td>\n",
       "      <td>Single</td>\n",
       "      <td>73</td>\n",
       "      <td>12</td>\n",
       "      <td>44</td>\n",
       "      <td>0</td>\n",
       "      <td>1</td>\n",
       "      <td>Personal Auto</td>\n",
       "      <td>Personal L1</td>\n",
       "      <td>Offer1</td>\n",
       "      <td>Agent</td>\n",
       "      <td>138.130879</td>\n",
       "      <td>Four-Door Car</td>\n",
       "      <td>Medsize</td>\n",
       "    </tr>\n",
       "  </tbody>\n",
       "</table>\n",
       "</div>"
      ],
      "text/plain": [
       "  Customer       State  Customer Lifetime Value Response  Coverage Education  \\\n",
       "0  BU79786  Washington              2763.519279       No     Basic  Bachelor   \n",
       "1  QZ44356     Arizona              6979.535903       No  Extended  Bachelor   \n",
       "2  AI49188      Nevada             12887.431650       No   Premium  Bachelor   \n",
       "3  WW63253  California              7645.861827       No     Basic  Bachelor   \n",
       "4  HB64268  Washington              2813.692575       No     Basic  Bachelor   \n",
       "\n",
       "  Effective To Date EmploymentStatus Gender  Income Location Code  \\\n",
       "0         2/24/2011         Employed      F   56274      Suburban   \n",
       "1         1/31/2011       Unemployed      F       0      Suburban   \n",
       "2         2/19/2011         Employed      F   48767      Suburban   \n",
       "3         1/20/2011       Unemployed      M       0      Suburban   \n",
       "4        02-03-2011         Employed      M   43836         Rural   \n",
       "\n",
       "  Marital Status  Monthly Premium Auto  Months Since Last Claim  \\\n",
       "0        Married                    69                       32   \n",
       "1         Single                    94                       13   \n",
       "2        Married                   108                       18   \n",
       "3        Married                   106                       18   \n",
       "4         Single                    73                       12   \n",
       "\n",
       "   Months Since Policy Inception  Number of Open Complaints  \\\n",
       "0                              5                          0   \n",
       "1                             42                          0   \n",
       "2                             38                          0   \n",
       "3                             65                          0   \n",
       "4                             44                          0   \n",
       "\n",
       "   Number of Policies     Policy Type        Policy Renew Offer Type  \\\n",
       "0                   1  Corporate Auto  Corporate L3           Offer1   \n",
       "1                   8   Personal Auto   Personal L3           Offer3   \n",
       "2                   2   Personal Auto   Personal L3           Offer1   \n",
       "3                   7  Corporate Auto  Corporate L2           Offer1   \n",
       "4                   1   Personal Auto   Personal L1           Offer1   \n",
       "\n",
       "  Sales Channel  Total Claim Amount  Vehicle Class Vehicle Size  \n",
       "0         Agent          384.811147   Two-Door Car      Medsize  \n",
       "1         Agent         1131.464935  Four-Door Car      Medsize  \n",
       "2         Agent          566.472247   Two-Door Car      Medsize  \n",
       "3   Call Center          529.881344            SUV      Medsize  \n",
       "4         Agent          138.130879  Four-Door Car      Medsize  "
      ]
     },
     "execution_count": 45,
     "metadata": {},
     "output_type": "execute_result"
    }
   ],
   "source": [
    "data = pd.read_csv('data.csv')\n",
    "data.head()"
   ]
  },
  {
   "cell_type": "markdown",
   "metadata": {},
   "source": [
    "# NULL VALUE'S CHECK."
   ]
  },
  {
   "cell_type": "code",
   "execution_count": 46,
   "metadata": {},
   "outputs": [
    {
     "data": {
      "text/plain": [
       "Customer                         0\n",
       "State                            0\n",
       "Customer Lifetime Value          0\n",
       "Response                         0\n",
       "Coverage                         0\n",
       "Education                        0\n",
       "Effective To Date                0\n",
       "EmploymentStatus                 0\n",
       "Gender                           0\n",
       "Income                           0\n",
       "Location Code                    0\n",
       "Marital Status                   0\n",
       "Monthly Premium Auto             0\n",
       "Months Since Last Claim          0\n",
       "Months Since Policy Inception    0\n",
       "Number of Open Complaints        0\n",
       "Number of Policies               0\n",
       "Policy Type                      0\n",
       "Policy                           0\n",
       "Renew Offer Type                 0\n",
       "Sales Channel                    0\n",
       "Total Claim Amount               0\n",
       "Vehicle Class                    0\n",
       "Vehicle Size                     0\n",
       "dtype: int64"
      ]
     },
     "execution_count": 46,
     "metadata": {},
     "output_type": "execute_result"
    }
   ],
   "source": [
    "data.isnull().sum()"
   ]
  },
  {
   "cell_type": "markdown",
   "metadata": {},
   "source": [
    "# MEASURES OF CENTRAL TENDENCY."
   ]
  },
  {
   "cell_type": "code",
   "execution_count": 47,
   "metadata": {},
   "outputs": [
    {
     "data": {
      "text/html": [
       "<div>\n",
       "<style scoped>\n",
       "    .dataframe tbody tr th:only-of-type {\n",
       "        vertical-align: middle;\n",
       "    }\n",
       "\n",
       "    .dataframe tbody tr th {\n",
       "        vertical-align: top;\n",
       "    }\n",
       "\n",
       "    .dataframe thead th {\n",
       "        text-align: right;\n",
       "    }\n",
       "</style>\n",
       "<table border=\"1\" class=\"dataframe\">\n",
       "  <thead>\n",
       "    <tr style=\"text-align: right;\">\n",
       "      <th></th>\n",
       "      <th>Customer Lifetime Value</th>\n",
       "      <th>Income</th>\n",
       "      <th>Monthly Premium Auto</th>\n",
       "      <th>Total Claim Amount</th>\n",
       "    </tr>\n",
       "  </thead>\n",
       "  <tbody>\n",
       "    <tr>\n",
       "      <th>count</th>\n",
       "      <td>9134.000000</td>\n",
       "      <td>9134.000000</td>\n",
       "      <td>9134.000000</td>\n",
       "      <td>9134.000000</td>\n",
       "    </tr>\n",
       "    <tr>\n",
       "      <th>mean</th>\n",
       "      <td>8004.940475</td>\n",
       "      <td>37657.380009</td>\n",
       "      <td>93.219291</td>\n",
       "      <td>434.088794</td>\n",
       "    </tr>\n",
       "    <tr>\n",
       "      <th>std</th>\n",
       "      <td>6870.967608</td>\n",
       "      <td>30379.904734</td>\n",
       "      <td>34.407967</td>\n",
       "      <td>290.500092</td>\n",
       "    </tr>\n",
       "    <tr>\n",
       "      <th>min</th>\n",
       "      <td>1898.007675</td>\n",
       "      <td>0.000000</td>\n",
       "      <td>61.000000</td>\n",
       "      <td>0.099007</td>\n",
       "    </tr>\n",
       "    <tr>\n",
       "      <th>25%</th>\n",
       "      <td>3994.251794</td>\n",
       "      <td>0.000000</td>\n",
       "      <td>68.000000</td>\n",
       "      <td>272.258244</td>\n",
       "    </tr>\n",
       "    <tr>\n",
       "      <th>50%</th>\n",
       "      <td>5780.182197</td>\n",
       "      <td>33889.500000</td>\n",
       "      <td>83.000000</td>\n",
       "      <td>383.945434</td>\n",
       "    </tr>\n",
       "    <tr>\n",
       "      <th>75%</th>\n",
       "      <td>8962.167041</td>\n",
       "      <td>62320.000000</td>\n",
       "      <td>109.000000</td>\n",
       "      <td>547.514839</td>\n",
       "    </tr>\n",
       "    <tr>\n",
       "      <th>max</th>\n",
       "      <td>83325.381190</td>\n",
       "      <td>99981.000000</td>\n",
       "      <td>298.000000</td>\n",
       "      <td>2893.239678</td>\n",
       "    </tr>\n",
       "  </tbody>\n",
       "</table>\n",
       "</div>"
      ],
      "text/plain": [
       "       Customer Lifetime Value        Income  Monthly Premium Auto  \\\n",
       "count              9134.000000   9134.000000           9134.000000   \n",
       "mean               8004.940475  37657.380009             93.219291   \n",
       "std                6870.967608  30379.904734             34.407967   \n",
       "min                1898.007675      0.000000             61.000000   \n",
       "25%                3994.251794      0.000000             68.000000   \n",
       "50%                5780.182197  33889.500000             83.000000   \n",
       "75%                8962.167041  62320.000000            109.000000   \n",
       "max               83325.381190  99981.000000            298.000000   \n",
       "\n",
       "       Total Claim Amount  \n",
       "count         9134.000000  \n",
       "mean           434.088794  \n",
       "std            290.500092  \n",
       "min              0.099007  \n",
       "25%            272.258244  \n",
       "50%            383.945434  \n",
       "75%            547.514839  \n",
       "max           2893.239678  "
      ]
     },
     "execution_count": 47,
     "metadata": {},
     "output_type": "execute_result"
    }
   ],
   "source": [
    "data[['Customer Lifetime Value','Income','Monthly Premium Auto','Total Claim Amount']].describe()"
   ]
  },
  {
   "cell_type": "markdown",
   "metadata": {},
   "source": [
    "# SHAPE OFTHE DATA SET."
   ]
  },
  {
   "cell_type": "code",
   "execution_count": 48,
   "metadata": {},
   "outputs": [
    {
     "data": {
      "text/plain": [
       "(9134, 24)"
      ]
     },
     "execution_count": 48,
     "metadata": {},
     "output_type": "execute_result"
    }
   ],
   "source": [
    "data.shape"
   ]
  },
  {
   "cell_type": "markdown",
   "metadata": {},
   "source": [
    "# DATA VISUALIZATION AND INFERENCES."
   ]
  },
  {
   "cell_type": "markdown",
   "metadata": {},
   "source": [
    "#### UNI-VARIATE ANALYSIS"
   ]
  },
  {
   "cell_type": "code",
   "execution_count": 49,
   "metadata": {},
   "outputs": [
    {
     "data": {
      "image/png": "[encoded data removed]",
      "text/plain": [
       "<Figure size 432x288 with 1 Axes>"
      ]
     },
     "metadata": {
      "needs_background": "light"
     },
     "output_type": "display_data"
    }
   ],
   "source": [
    "sns.boxplot(data['Income'])\n",
    "plt.show()"
   ]
  },
  {
   "cell_type": "code",
   "execution_count": 50,
   "metadata": {},
   "outputs": [
    {
     "data": {
      "image/png": "[encoded data removed]",
      "text/plain": [
       "<Figure size 432x288 with 1 Axes>"
      ]
     },
     "metadata": {
      "needs_background": "light"
     },
     "output_type": "display_data"
    }
   ],
   "source": [
    "sns.boxplot(data['Monthly Premium Auto'])\n",
    "plt.show()"
   ]
  },
  {
   "cell_type": "code",
   "execution_count": 51,
   "metadata": {},
   "outputs": [
    {
     "data": {
      "image/png": "[encoded data removed]",
      "text/plain": [
       "<Figure size 432x288 with 1 Axes>"
      ]
     },
     "metadata": {
      "needs_background": "light"
     },
     "output_type": "display_data"
    }
   ],
   "source": [
    "sns.boxplot(data['Total Claim Amount'])\n",
    "plt.show()"
   ]
  },
  {
   "cell_type": "markdown",
   "metadata": {},
   "source": [
    "As we can see that there are outlier's in the total claim amount feature and also the income feature, the general trend is to remove the outlier's are a better model , since our DOMAIN is related to insurance and banking industry, we must be accepting the outlier's as they are the potential high revenue making customer's.\n",
    "And there are no outlier's in the income feature.\n",
    "Conclusion: WE ARE NOT DOING ANY OUTLIER TREATMENT."
   ]
  },
  {
   "cell_type": "code",
   "execution_count": 52,
   "metadata": {},
   "outputs": [
    {
     "data": {
      "image/png": "[encoded data removed]",
      "text/plain": [
       "<Figure size 432x288 with 1 Axes>"
      ]
     },
     "metadata": {
      "needs_background": "light"
     },
     "output_type": "display_data"
    }
   ],
   "source": [
    "sns.distplot(data['Income'])\n",
    "plt.show()"
   ]
  },
  {
   "cell_type": "code",
   "execution_count": 53,
   "metadata": {},
   "outputs": [
    {
     "data": {
      "image/png": "[encoded data removed]",
      "text/plain": [
       "<Figure size 432x288 with 1 Axes>"
      ]
     },
     "metadata": {
      "needs_background": "light"
     },
     "output_type": "display_data"
    }
   ],
   "source": [
    "sns.distplot(data['Monthly Premium Auto'])\n",
    "plt.show()"
   ]
  },
  {
   "cell_type": "code",
   "execution_count": 54,
   "metadata": {},
   "outputs": [
    {
     "data": {
      "image/png": "[encoded data removed]",
      "text/plain": [
       "<Figure size 432x288 with 1 Axes>"
      ]
     },
     "metadata": {
      "needs_background": "light"
     },
     "output_type": "display_data"
    }
   ],
   "source": [
    "sns.distplot(data['Total Claim Amount'])\n",
    "plt.show()"
   ]
  },
  {
   "cell_type": "markdown",
   "metadata": {},
   "source": [
    "As we can see that none of the continuous features are normally distributed, no matter what distribution a particular feature tend's to follow we as data analyst, we are inclined to make it normal, but there is a possible chance that the feature may follow some other distribution, So in our case , we want to make the distribution's normal, we can apply some transformation's to the data and see if we can achieve a normally distributed feature."
   ]
  },
  {
   "cell_type": "markdown",
   "metadata": {},
   "source": [
    "#### TRANSFORMATION OF THE NUMERICAL FEATURES"
   ]
  },
  {
   "cell_type": "code",
   "execution_count": 55,
   "metadata": {},
   "outputs": [
    {
     "data": {
      "image/png": "[encoded data removed]",
      "text/plain": [
       "<Figure size 432x288 with 1 Axes>"
      ]
     },
     "metadata": {
      "needs_background": "light"
     },
     "output_type": "display_data"
    }
   ],
   "source": [
    "sns.distplot(data['Income']**2)\n",
    "plt.show()"
   ]
  },
  {
   "cell_type": "code",
   "execution_count": 56,
   "metadata": {},
   "outputs": [
    {
     "data": {
      "image/png": "[encoded data removed]",
      "text/plain": [
       "<Figure size 432x288 with 1 Axes>"
      ]
     },
     "metadata": {
      "needs_background": "light"
     },
     "output_type": "display_data"
    }
   ],
   "source": [
    "sns.distplot(data['Income']**(1/2))\n",
    "plt.show()"
   ]
  },
  {
   "cell_type": "markdown",
   "metadata": {},
   "source": [
    "As we can see that while we are trying to transform the data to make it normal,rather the distribution is getting skewed, or is having multiple peaks which again is a problem to our model, hence we just stick with the same distribution of the feature."
   ]
  },
  {
   "cell_type": "code",
   "execution_count": 57,
   "metadata": {},
   "outputs": [
    {
     "data": {
      "image/png": "[encoded data removed]",
      "text/plain": [
       "<Figure size 432x288 with 1 Axes>"
      ]
     },
     "metadata": {
      "needs_background": "light"
     },
     "output_type": "display_data"
    }
   ],
   "source": [
    "sns.distplot(data['Monthly Premium Auto']**(2))\n",
    "plt.show()"
   ]
  },
  {
   "cell_type": "markdown",
   "metadata": {},
   "source": [
    "The monthly premium auto feature has multiple peak's so to remove those peaks we can apply any of the power transformation (SQUARE / CUBE) but as we can see that after the square transformation the data is getting heavily skewed, so we stick with the actual distribution again."
   ]
  },
  {
   "cell_type": "code",
   "execution_count": 58,
   "metadata": {},
   "outputs": [
    {
     "data": {
      "image/png": "[encoded data removed]",
      "text/plain": [
       "<Figure size 432x288 with 1 Axes>"
      ]
     },
     "metadata": {
      "needs_background": "light"
     },
     "output_type": "display_data"
    }
   ],
   "source": [
    "sns.distplot(data['Total Claim Amount']**2)\n",
    "plt.show()"
   ]
  },
  {
   "cell_type": "markdown",
   "metadata": {},
   "source": [
    "Again for the total claim amount after applying the transformation's the data is getting skewed, and hence we stick to the actual distibution of the data."
   ]
  },
  {
   "cell_type": "markdown",
   "metadata": {},
   "source": [
    "Conclusion: No matter what power transformation we are applying to the numerical features, it is still not getting normally distributed, and moreover the data is getting skewed, so rather we will just stick with the actual distribution of the feature in our model building."
   ]
  },
  {
   "cell_type": "code",
   "execution_count": 59,
   "metadata": {},
   "outputs": [
    {
     "data": {
      "image/png": "[encoded data removed]",
      "text/plain": [
       "<Figure size 432x288 with 1 Axes>"
      ]
     },
     "metadata": {
      "needs_background": "light"
     },
     "output_type": "display_data"
    }
   ],
   "source": [
    "sns.barplot(x = 'Location Code',y='Customer Lifetime Value',data = data)\n",
    "plt.show()"
   ]
  },
  {
   "cell_type": "markdown",
   "metadata": {},
   "source": [
    "The average customer lifetime value of the customer who stay in different location code's is the same so while creating the model we can dis regard the feature."
   ]
  },
  {
   "cell_type": "code",
   "execution_count": 60,
   "metadata": {},
   "outputs": [
    {
     "data": {
      "image/png": "[encoded data removed]",
      "text/plain": [
       "<Figure size 432x288 with 1 Axes>"
      ]
     },
     "metadata": {
      "needs_background": "light"
     },
     "output_type": "display_data"
    }
   ],
   "source": [
    "sns.barplot(x = 'State',y='Customer Lifetime Value',data = data)\n",
    "plt.show()"
   ]
  },
  {
   "cell_type": "markdown",
   "metadata": {},
   "source": [
    "The average customer lifetime value of the customer who stay in different state is the same so while creating the model we can dis regard the feature."
   ]
  },
  {
   "cell_type": "code",
   "execution_count": 61,
   "metadata": {},
   "outputs": [
    {
     "data": {
      "image/png": "[encoded data removed]",
      "text/plain": [
       "<Figure size 432x288 with 1 Axes>"
      ]
     },
     "metadata": {
      "needs_background": "light"
     },
     "output_type": "display_data"
    }
   ],
   "source": [
    "sns.barplot(x = 'Response',y='Customer Lifetime Value',data = data)\n",
    "plt.show()"
   ]
  },
  {
   "cell_type": "markdown",
   "metadata": {},
   "source": [
    "It doesn't matter if the customer take's the marketing call, or he doesn't as the average customer lifetime value for both of them is the same."
   ]
  },
  {
   "cell_type": "code",
   "execution_count": 62,
   "metadata": {},
   "outputs": [
    {
     "data": {
      "image/png": "[encoded data removed]",
      "text/plain": [
       "<Figure size 432x288 with 1 Axes>"
      ]
     },
     "metadata": {
      "needs_background": "light"
     },
     "output_type": "display_data"
    }
   ],
   "source": [
    "sns.barplot(x = 'Gender',y='Customer Lifetime Value',data = data)\n",
    "plt.show()"
   ]
  },
  {
   "cell_type": "markdown",
   "metadata": {},
   "source": [
    "Our model , is not biased based on gender, but still we can see that the average customer lifetime value is the same for both male and female."
   ]
  },
  {
   "cell_type": "code",
   "execution_count": 63,
   "metadata": {},
   "outputs": [
    {
     "data": {
      "image/png": "[encoded data removed]",
      "text/plain": [
       "<Figure size 432x288 with 1 Axes>"
      ]
     },
     "metadata": {
      "needs_background": "light"
     },
     "output_type": "display_data"
    }
   ],
   "source": [
    "sns.barplot(x = 'Education',y='Customer Lifetime Value',data = data)\n",
    "plt.xticks(rotation=45)\n",
    "plt.show()"
   ]
  },
  {
   "cell_type": "markdown",
   "metadata": {},
   "source": [
    "We can also see that education is not a significant feature for assesing the lifetime value of the customer."
   ]
  },
  {
   "cell_type": "code",
   "execution_count": 64,
   "metadata": {},
   "outputs": [
    {
     "data": {
      "image/png": "[encoded data removed]",
      "text/plain": [
       "<Figure size 432x288 with 1 Axes>"
      ]
     },
     "metadata": {
      "needs_background": "light"
     },
     "output_type": "display_data"
    }
   ],
   "source": [
    "sns.barplot(x = 'Number of Policies',y='Customer Lifetime Value',data = data)\n",
    "plt.show()"
   ]
  },
  {
   "cell_type": "markdown",
   "metadata": {},
   "source": [
    "We can see a pattern here, customer's who have taken only 1 policy have lower customer lifetime value, and customer's who have taken 3 or greater show a similar trend, so we can bin all the customer who have taken number of policies 3 or greater into one bin, and suprisingly we can also see that the customer's who have taken 2 policies have very high customer lifetime value comparitively, which is challenging part to answer why, domain knowledge is much required here."
   ]
  },
  {
   "cell_type": "code",
   "execution_count": 65,
   "metadata": {},
   "outputs": [
    {
     "data": {
      "image/png": "[encoded data removed]",
      "text/plain": [
       "<Figure size 432x288 with 1 Axes>"
      ]
     },
     "metadata": {
      "needs_background": "light"
     },
     "output_type": "display_data"
    }
   ],
   "source": [
    "sns.barplot(x = 'Policy Type',y='Customer Lifetime Value',data = data)\n",
    "plt.xticks(rotation = 90)\n",
    "plt.show()"
   ]
  },
  {
   "cell_type": "markdown",
   "metadata": {},
   "source": [
    "There isn't much difference in the customer lifetime value W.R.T what policy type he has taken, all we need is how much revenue a customer can bring to the company, so it doesnt matter what type of policy he/she has chosen."
   ]
  },
  {
   "cell_type": "code",
   "execution_count": 66,
   "metadata": {},
   "outputs": [
    {
     "data": {
      "image/png": "[encoded data removed]",
      "text/plain": [
       "<Figure size 432x288 with 1 Axes>"
      ]
     },
     "metadata": {
      "needs_background": "light"
     },
     "output_type": "display_data"
    }
   ],
   "source": [
    "sns.barplot(x = 'Coverage',y='Customer Lifetime Value',data = data)\n",
    "plt.show()"
   ]
  },
  {
   "cell_type": "markdown",
   "metadata": {},
   "source": [
    "Customer Lifetime Value is different for different coverage, as we can also see that visually which make's sense, better the coverage better the monthly premium amount a custoemr pay's , better the revenue from that particular customer."
   ]
  },
  {
   "cell_type": "code",
   "execution_count": 67,
   "metadata": {},
   "outputs": [
    {
     "data": {
      "image/png": "[encoded data removed]",
      "text/plain": [
       "<Figure size 432x288 with 1 Axes>"
      ]
     },
     "metadata": {
      "needs_background": "light"
     },
     "output_type": "display_data"
    }
   ],
   "source": [
    "sns.barplot(x = 'Number of Open Complaints',y='Customer Lifetime Value',data = data)\n",
    "plt.show()"
   ]
  },
  {
   "cell_type": "markdown",
   "metadata": {},
   "source": [
    "Number of open complaint's also show kind of similar trend, where people who have complaints 2 or lesser have a similar pattern but where as >3 do not show any pattern we will have to do statistical test's to understand if this feature is really significant or it isn't."
   ]
  },
  {
   "cell_type": "code",
   "execution_count": 68,
   "metadata": {},
   "outputs": [
    {
     "data": {
      "image/png": "[encoded data removed]",
      "text/plain": [
       "<Figure size 540x180 with 3 Axes>"
      ]
     },
     "metadata": {
      "needs_background": "light"
     },
     "output_type": "display_data"
    }
   ],
   "source": [
    "sns.pairplot(y_vars='Customer Lifetime Value',x_vars=['Income','Monthly Premium Auto','Total Claim Amount'],data = data)\n",
    "plt.show()"
   ]
  },
  {
   "cell_type": "markdown",
   "metadata": {},
   "source": [
    "We can clearly see that there is a linear relationship between Customer lifetime value and monthly premium auto, but we do not see any relationshio between income and the total claim amount."
   ]
  },
  {
   "cell_type": "code",
   "execution_count": 69,
   "metadata": {},
   "outputs": [
    {
     "data": {
      "image/png": "[encoded data removed]",
      "text/plain": [
       "<Figure size 432x288 with 2 Axes>"
      ]
     },
     "metadata": {
      "needs_background": "light"
     },
     "output_type": "display_data"
    }
   ],
   "source": [
    "sns.heatmap(data[['Customer Lifetime Value','Monthly Premium Auto','Income','Total Claim Amount']].corr(),annot = True)\n",
    "plt.show()"
   ]
  },
  {
   "cell_type": "markdown",
   "metadata": {},
   "source": [
    "And we can clearly see in the co relation map, that customer lifetime value has a better co relation with monthly premium auto and acceptable co relation with total claim amount, but it show's no relationship with income, so again with all the visualization's we can come to the conclusion that we can dis regard the INCOME feature."
   ]
  },
  {
   "cell_type": "markdown",
   "metadata": {},
   "source": [
    "# BASE MODEL USING OLS."
   ]
  },
  {
   "cell_type": "markdown",
   "metadata": {},
   "source": [
    "#### Using label encoding just for the purpose of looking at the base model, encoding technique's may change furthur(one-hot encoding is used)"
   ]
  },
  {
   "cell_type": "code",
   "execution_count": 70,
   "metadata": {},
   "outputs": [],
   "source": [
    "cols = data.select_dtypes(object).columns\n",
    "for i in cols:\n",
    "    data[i] = le.fit_transform(data[i])"
   ]
  },
  {
   "cell_type": "code",
   "execution_count": 71,
   "metadata": {},
   "outputs": [],
   "source": [
    "X = data.drop('Customer Lifetime Value',axis=1)\n",
    "y = data['Customer Lifetime Value']"
   ]
  },
  {
   "cell_type": "code",
   "execution_count": 72,
   "metadata": {},
   "outputs": [
    {
     "data": {
      "text/html": [
       "<table class=\"simpletable\">\n",
       "<caption>OLS Regression Results</caption>\n",
       "<tr>\n",
       "  <th>Dep. Variable:</th>    <td>Customer Lifetime Value</td> <th>  R-squared:         </th> <td>   0.166</td> \n",
       "</tr>\n",
       "<tr>\n",
       "  <th>Model:</th>                      <td>OLS</td>           <th>  Adj. R-squared:    </th> <td>   0.164</td> \n",
       "</tr>\n",
       "<tr>\n",
       "  <th>Method:</th>                <td>Least Squares</td>      <th>  F-statistic:       </th> <td>   78.82</td> \n",
       "</tr>\n",
       "<tr>\n",
       "  <th>Date:</th>                <td>Thu, 14 Nov 2019</td>     <th>  Prob (F-statistic):</th>  <td>  0.00</td>  \n",
       "</tr>\n",
       "<tr>\n",
       "  <th>Time:</th>                    <td>10:28:30</td>         <th>  Log-Likelihood:    </th> <td> -92831.</td> \n",
       "</tr>\n",
       "<tr>\n",
       "  <th>No. Observations:</th>         <td>  9134</td>          <th>  AIC:               </th> <td>1.857e+05</td>\n",
       "</tr>\n",
       "<tr>\n",
       "  <th>Df Residuals:</th>             <td>  9110</td>          <th>  BIC:               </th> <td>1.859e+05</td>\n",
       "</tr>\n",
       "<tr>\n",
       "  <th>Df Model:</th>                 <td>    23</td>          <th>                     </th>     <td> </td>    \n",
       "</tr>\n",
       "<tr>\n",
       "  <th>Covariance Type:</th>         <td>nonrobust</td>        <th>                     </th>     <td> </td>    \n",
       "</tr>\n",
       "</table>\n",
       "<table class=\"simpletable\">\n",
       "<tr>\n",
       "                <td></td>                   <th>coef</th>     <th>std err</th>      <th>t</th>      <th>P>|t|</th>  <th>[0.025</th>    <th>0.975]</th>  \n",
       "</tr>\n",
       "<tr>\n",
       "  <th>const</th>                         <td>  872.5455</td> <td>  499.361</td> <td>    1.747</td> <td> 0.081</td> <td> -106.315</td> <td> 1851.406</td>\n",
       "</tr>\n",
       "<tr>\n",
       "  <th>Customer</th>                      <td>   -0.0767</td> <td>    0.025</td> <td>   -3.073</td> <td> 0.002</td> <td>   -0.126</td> <td>   -0.028</td>\n",
       "</tr>\n",
       "<tr>\n",
       "  <th>State</th>                         <td>   30.3958</td> <td>   51.107</td> <td>    0.595</td> <td> 0.552</td> <td>  -69.786</td> <td>  130.578</td>\n",
       "</tr>\n",
       "<tr>\n",
       "  <th>Response</th>                      <td> -434.8693</td> <td>  192.448</td> <td>   -2.260</td> <td> 0.024</td> <td> -812.111</td> <td>  -57.627</td>\n",
       "</tr>\n",
       "<tr>\n",
       "  <th>Coverage</th>                      <td> -186.4730</td> <td>  113.665</td> <td>   -1.641</td> <td> 0.101</td> <td> -409.281</td> <td>   36.335</td>\n",
       "</tr>\n",
       "<tr>\n",
       "  <th>Education</th>                     <td>   93.7398</td> <td>   47.771</td> <td>    1.962</td> <td> 0.050</td> <td>    0.097</td> <td>  187.382</td>\n",
       "</tr>\n",
       "<tr>\n",
       "  <th>Effective To Date</th>             <td>   -0.1302</td> <td>    3.883</td> <td>   -0.034</td> <td> 0.973</td> <td>   -7.742</td> <td>    7.481</td>\n",
       "</tr>\n",
       "<tr>\n",
       "  <th>EmploymentStatus</th>              <td> -104.9096</td> <td>   73.576</td> <td>   -1.426</td> <td> 0.154</td> <td> -249.134</td> <td>   39.315</td>\n",
       "</tr>\n",
       "<tr>\n",
       "  <th>Gender</th>                        <td> -137.3192</td> <td>  132.608</td> <td>   -1.036</td> <td> 0.300</td> <td> -397.261</td> <td>  122.623</td>\n",
       "</tr>\n",
       "<tr>\n",
       "  <th>Income</th>                        <td>    0.0022</td> <td>    0.003</td> <td>    0.662</td> <td> 0.508</td> <td>   -0.004</td> <td>    0.009</td>\n",
       "</tr>\n",
       "<tr>\n",
       "  <th>Location Code</th>                 <td>  109.7248</td> <td>  116.551</td> <td>    0.941</td> <td> 0.347</td> <td> -118.742</td> <td>  338.191</td>\n",
       "</tr>\n",
       "<tr>\n",
       "  <th>Marital Status</th>                <td> -237.4657</td> <td>  110.640</td> <td>   -2.146</td> <td> 0.032</td> <td> -454.344</td> <td>  -20.587</td>\n",
       "</tr>\n",
       "<tr>\n",
       "  <th>Monthly Premium Auto</th>          <td>   82.7472</td> <td>    2.923</td> <td>   28.304</td> <td> 0.000</td> <td>   77.017</td> <td>   88.478</td>\n",
       "</tr>\n",
       "<tr>\n",
       "  <th>Months Since Last Claim</th>       <td>    7.0304</td> <td>    6.544</td> <td>    1.074</td> <td> 0.283</td> <td>   -5.798</td> <td>   19.859</td>\n",
       "</tr>\n",
       "<tr>\n",
       "  <th>Months Since Policy Inception</th> <td>   -0.8386</td> <td>    2.373</td> <td>   -0.353</td> <td> 0.724</td> <td>   -5.489</td> <td>    3.812</td>\n",
       "</tr>\n",
       "<tr>\n",
       "  <th>Number of Open Complaints</th>     <td> -250.4702</td> <td>   72.355</td> <td>   -3.462</td> <td> 0.001</td> <td> -392.303</td> <td> -108.638</td>\n",
       "</tr>\n",
       "<tr>\n",
       "  <th>Number of Policies</th>            <td>   63.8915</td> <td>   27.655</td> <td>    2.310</td> <td> 0.021</td> <td>    9.681</td> <td>  118.102</td>\n",
       "</tr>\n",
       "<tr>\n",
       "  <th>Policy Type</th>                   <td>  441.5321</td> <td>  290.952</td> <td>    1.518</td> <td> 0.129</td> <td> -128.798</td> <td> 1011.863</td>\n",
       "</tr>\n",
       "<tr>\n",
       "  <th>Policy</th>                        <td>  -48.2763</td> <td>   86.230</td> <td>   -0.560</td> <td> 0.576</td> <td> -217.306</td> <td>  120.753</td>\n",
       "</tr>\n",
       "<tr>\n",
       "  <th>Renew Offer Type</th>              <td> -348.8194</td> <td>   68.467</td> <td>   -5.095</td> <td> 0.000</td> <td> -483.030</td> <td> -214.609</td>\n",
       "</tr>\n",
       "<tr>\n",
       "  <th>Sales Channel</th>                 <td>   22.4563</td> <td>   62.272</td> <td>    0.361</td> <td> 0.718</td> <td>  -99.610</td> <td>  144.523</td>\n",
       "</tr>\n",
       "<tr>\n",
       "  <th>Total Claim Amount</th>            <td>   -0.5882</td> <td>    0.362</td> <td>   -1.626</td> <td> 0.104</td> <td>   -1.298</td> <td>    0.121</td>\n",
       "</tr>\n",
       "<tr>\n",
       "  <th>Vehicle Class</th>                 <td>   45.9054</td> <td>   32.409</td> <td>    1.416</td> <td> 0.157</td> <td>  -17.623</td> <td>  109.434</td>\n",
       "</tr>\n",
       "<tr>\n",
       "  <th>Vehicle Size</th>                  <td>  187.3131</td> <td>  123.322</td> <td>    1.519</td> <td> 0.129</td> <td>  -54.426</td> <td>  429.052</td>\n",
       "</tr>\n",
       "</table>\n",
       "<table class=\"simpletable\">\n",
       "<tr>\n",
       "  <th>Omnibus:</th>       <td>5656.712</td> <th>  Durbin-Watson:     </th> <td>   1.997</td> \n",
       "</tr>\n",
       "<tr>\n",
       "  <th>Prob(Omnibus):</th>  <td> 0.000</td>  <th>  Jarque-Bera (JB):  </th> <td>64290.235</td>\n",
       "</tr>\n",
       "<tr>\n",
       "  <th>Skew:</th>           <td> 2.847</td>  <th>  Prob(JB):          </th> <td>    0.00</td> \n",
       "</tr>\n",
       "<tr>\n",
       "  <th>Kurtosis:</th>       <td>14.683</td>  <th>  Cond. No.          </th> <td>3.73e+05</td> \n",
       "</tr>\n",
       "</table><br/><br/>Warnings:<br/>[1] Standard Errors assume that the covariance matrix of the errors is correctly specified.<br/>[2] The condition number is large, 3.73e+05. This might indicate that there are<br/>strong multicollinearity or other numerical problems."
      ],
      "text/plain": [
       "<class 'statsmodels.iolib.summary.Summary'>\n",
       "\"\"\"\n",
       "                               OLS Regression Results                              \n",
       "===================================================================================\n",
       "Dep. Variable:     Customer Lifetime Value   R-squared:                       0.166\n",
       "Model:                                 OLS   Adj. R-squared:                  0.164\n",
       "Method:                      Least Squares   F-statistic:                     78.82\n",
       "Date:                     Thu, 14 Nov 2019   Prob (F-statistic):               0.00\n",
       "Time:                             10:28:30   Log-Likelihood:                -92831.\n",
       "No. Observations:                     9134   AIC:                         1.857e+05\n",
       "Df Residuals:                         9110   BIC:                         1.859e+05\n",
       "Df Model:                               23                                         \n",
       "Covariance Type:                 nonrobust                                         \n",
       "=================================================================================================\n",
       "                                    coef    std err          t      P>|t|      [0.025      0.975]\n",
       "-------------------------------------------------------------------------------------------------\n",
       "const                           872.5455    499.361      1.747      0.081    -106.315    1851.406\n",
       "Customer                         -0.0767      0.025     -3.073      0.002      -0.126      -0.028\n",
       "State                            30.3958     51.107      0.595      0.552     -69.786     130.578\n",
       "Response                       -434.8693    192.448     -2.260      0.024    -812.111     -57.627\n",
       "Coverage                       -186.4730    113.665     -1.641      0.101    -409.281      36.335\n",
       "Education                        93.7398     47.771      1.962      0.050       0.097     187.382\n",
       "Effective To Date                -0.1302      3.883     -0.034      0.973      -7.742       7.481\n",
       "EmploymentStatus               -104.9096     73.576     -1.426      0.154    -249.134      39.315\n",
       "Gender                         -137.3192    132.608     -1.036      0.300    -397.261     122.623\n",
       "Income                            0.0022      0.003      0.662      0.508      -0.004       0.009\n",
       "Location Code                   109.7248    116.551      0.941      0.347    -118.742     338.191\n",
       "Marital Status                 -237.4657    110.640     -2.146      0.032    -454.344     -20.587\n",
       "Monthly Premium Auto             82.7472      2.923     28.304      0.000      77.017      88.478\n",
       "Months Since Last Claim           7.0304      6.544      1.074      0.283      -5.798      19.859\n",
       "Months Since Policy Inception    -0.8386      2.373     -0.353      0.724      -5.489       3.812\n",
       "Number of Open Complaints      -250.4702     72.355     -3.462      0.001    -392.303    -108.638\n",
       "Number of Policies               63.8915     27.655      2.310      0.021       9.681     118.102\n",
       "Policy Type                     441.5321    290.952      1.518      0.129    -128.798    1011.863\n",
       "Policy                          -48.2763     86.230     -0.560      0.576    -217.306     120.753\n",
       "Renew Offer Type               -348.8194     68.467     -5.095      0.000    -483.030    -214.609\n",
       "Sales Channel                    22.4563     62.272      0.361      0.718     -99.610     144.523\n",
       "Total Claim Amount               -0.5882      0.362     -1.626      0.104      -1.298       0.121\n",
       "Vehicle Class                    45.9054     32.409      1.416      0.157     -17.623     109.434\n",
       "Vehicle Size                    187.3131    123.322      1.519      0.129     -54.426     429.052\n",
       "==============================================================================\n",
       "Omnibus:                     5656.712   Durbin-Watson:                   1.997\n",
       "Prob(Omnibus):                  0.000   Jarque-Bera (JB):            64290.235\n",
       "Skew:                           2.847   Prob(JB):                         0.00\n",
       "Kurtosis:                      14.683   Cond. No.                     3.73e+05\n",
       "==============================================================================\n",
       "\n",
       "Warnings:\n",
       "[1] Standard Errors assume that the covariance matrix of the errors is correctly specified.\n",
       "[2] The condition number is large, 3.73e+05. This might indicate that there are\n",
       "strong multicollinearity or other numerical problems.\n",
       "\"\"\""
      ]
     },
     "execution_count": 72,
     "metadata": {},
     "output_type": "execute_result"
    }
   ],
   "source": [
    "X_sm = X\n",
    "X_sm = sm.add_constant(X_sm)\n",
    "lm = sm.OLS(y,X_sm).fit()\n",
    "lm.summary()"
   ]
  },
  {
   "cell_type": "markdown",
   "metadata": {},
   "source": [
    "<br>  After Looking at the base model and the p-value of the feature's, we know that the Hypothesis for the feature's is\n",
    "- H0: Feature is not significant\n",
    "- Ha: Feature is significant  \n",
    "  But we just cant conclude the significance of the feature's just by base model and also without using any of the feature engineering technique's we have at our disposal.\n",
    "  So we will first try to do the statistical test's of the feature for the feature selection, we can also use the forward selection and backward elimination , we will use the Variance inflation factor"
   ]
  },
  {
   "cell_type": "markdown",
   "metadata": {},
   "source": [
    "# ASSUMPTIONS OF LINEAR REGRESSION."
   ]
  },
  {
   "cell_type": "markdown",
   "metadata": {},
   "source": [
    "## Linearity"
   ]
  },
  {
   "cell_type": "code",
   "execution_count": 73,
   "metadata": {},
   "outputs": [
    {
     "data": {
      "image/png": "[encoded data removed]",
      "text/plain": [
       "<Figure size 540x180 with 3 Axes>"
      ]
     },
     "metadata": {
      "needs_background": "light"
     },
     "output_type": "display_data"
    }
   ],
   "source": [
    "sns.pairplot(x_vars=['Monthly Premium Auto','Total Claim Amount','Income'],y_vars =['Customer Lifetime Value'],data = data)\n",
    "plt.show()"
   ]
  },
  {
   "cell_type": "markdown",
   "metadata": {},
   "source": [
    "We don't see any linear relationship between the variables and the Y varible , which fail's the first assumption of linear regression."
   ]
  },
  {
   "cell_type": "markdown",
   "metadata": {},
   "source": [
    "## Mean Of Residuals"
   ]
  },
  {
   "cell_type": "code",
   "execution_count": 74,
   "metadata": {},
   "outputs": [],
   "source": [
    "X_train,X_test,y_train,y_test = train_test_split(X,y,test_size=0.3,random_state=100)"
   ]
  },
  {
   "cell_type": "code",
   "execution_count": 75,
   "metadata": {},
   "outputs": [
    {
     "name": "stdout",
     "output_type": "stream",
     "text": [
      "The mean of the residuals is -43.90575379383977\n"
     ]
    }
   ],
   "source": [
    "lr.fit(X_train,y_train)\n",
    "y_pred = lr.predict(X_test)\n",
    "residuals = y_pred-y_test\n",
    "mean_of_residuals = np.mean(residuals)\n",
    "print(f\"The mean of the residuals is {mean_of_residuals}\")"
   ]
  },
  {
   "cell_type": "markdown",
   "metadata": {},
   "source": [
    "The 2nd assumption is that the mean of the residual's must be close to zero, which again fail's."
   ]
  },
  {
   "cell_type": "markdown",
   "metadata": {},
   "source": [
    "## HomoScedasticity"
   ]
  },
  {
   "cell_type": "code",
   "execution_count": 76,
   "metadata": {},
   "outputs": [
    {
     "data": {
      "text/plain": [
       "[('F statistic', 1.3857813673428665), ('p-value', 1.1566661126424873e-09)]"
      ]
     },
     "execution_count": 76,
     "metadata": {},
     "output_type": "execute_result"
    }
   ],
   "source": [
    "name = ['F statistic', 'p-value']\n",
    "test = sms.het_goldfeldquandt(residuals,X_test)\n",
    "lzip(name, test)"
   ]
  },
  {
   "cell_type": "markdown",
   "metadata": {},
   "source": [
    "- H0: Error terms are homoscedastic\n",
    "- Ha: Error terms are not homoscedastic"
   ]
  },
  {
   "cell_type": "markdown",
   "metadata": {},
   "source": [
    "p-value < 0.05 reject null hypothesis, error terms are not homoscedastic"
   ]
  },
  {
   "cell_type": "markdown",
   "metadata": {},
   "source": [
    "## Test of normality of residuals."
   ]
  },
  {
   "cell_type": "code",
   "execution_count": 77,
   "metadata": {},
   "outputs": [
    {
     "data": {
      "image/png": "[encoded data removed]",
      "text/plain": [
       "<Figure size 432x288 with 1 Axes>"
      ]
     },
     "metadata": {
      "needs_background": "light"
     },
     "output_type": "display_data"
    }
   ],
   "source": [
    "p = sns.distplot(residuals,kde=True)\n",
    "p = plt.title('Normality of error terms/residuals')"
   ]
  },
  {
   "cell_type": "markdown",
   "metadata": {},
   "source": [
    "The distribution clearly show's that the residuals are not normally distributed, and the third assumption also fail's."
   ]
  },
  {
   "cell_type": "markdown",
   "metadata": {},
   "source": [
    "# Auto Co-relation."
   ]
  },
  {
   "cell_type": "code",
   "execution_count": 78,
   "metadata": {},
   "outputs": [
    {
     "data": {
      "text/plain": [
       "0.0764489502600801"
      ]
     },
     "execution_count": 78,
     "metadata": {},
     "output_type": "execute_result"
    }
   ],
   "source": [
    "min(diag.acorr_ljungbox(residuals , lags = 40)[1])"
   ]
  },
  {
   "cell_type": "markdown",
   "metadata": {},
   "source": [
    "- Ho: Auto correlation is absent\n",
    "- Ha: Auto correlation is present\n",
    "\n",
    "The P-value is >0.05 ,we fail to reject the null hypothesis, auto co relation is absent."
   ]
  },
  {
   "cell_type": "markdown",
   "metadata": {},
   "source": [
    "## Multi-Colinearity"
   ]
  },
  {
   "cell_type": "code",
   "execution_count": null,
   "metadata": {},
   "outputs": [],
   "source": []
  },
  {
   "cell_type": "markdown",
   "metadata": {},
   "source": [
    "Out of the five assumption's we base model doesnt satisfy 3 out of them, we will try to satisfy them in the furthur process."
   ]
  },
  {
   "cell_type": "markdown",
   "metadata": {},
   "source": [
    "# STATISTICAL ANALYSIS."
   ]
  },
  {
   "cell_type": "markdown",
   "metadata": {},
   "source": [
    "Considering CLTV (Customer Lifetime Value) as the target variable, we shall try to understand how each of the independent variables are contributing towards the target variable.\n",
    "\n",
    "Since our target variable is a continuous variable, we will have to perform ANOVA to understand how significant are the independent variables towards target variable.\n",
    "\n",
    "For ANOVA,\n",
    "- Null hypothesis is that there is no significant difference among the groups\n",
    "- Alternative hypothesis is that there is at least one significant difference among the groups"
   ]
  },
  {
   "cell_type": "markdown",
   "metadata": {},
   "source": [
    "# State v/s Customer Lifetime Value"
   ]
  },
  {
   "cell_type": "code",
   "execution_count": 79,
   "metadata": {},
   "outputs": [],
   "source": [
    "data = pd.read_csv('data.csv')"
   ]
  },
  {
   "cell_type": "code",
   "execution_count": 80,
   "metadata": {},
   "outputs": [],
   "source": [
    "State = data.groupby('State')\n",
    "Washington = State.get_group('Washington')['Customer Lifetime Value']\n",
    "Arizona = State.get_group('Arizona')['Customer Lifetime Value']\n",
    "Nevada = State.get_group('Nevada')['Customer Lifetime Value']\n",
    "California = State.get_group('California')['Customer Lifetime Value']\n",
    "Oregon = State.get_group('Oregon')['Customer Lifetime Value']"
   ]
  },
  {
   "cell_type": "code",
   "execution_count": 81,
   "metadata": {},
   "outputs": [
    {
     "name": "stdout",
     "output_type": "stream",
     "text": [
      "NormaltestResult(statistic=589.985409403956, pvalue=7.69655090624974e-129) \n",
      "\n",
      "NormaltestResult(statistic=1123.931182802557, pvalue=8.73865582665683e-245) \n",
      "\n",
      "NormaltestResult(statistic=531.43144944664, pvalue=3.9914160352323387e-116) \n",
      "\n",
      "NormaltestResult(statistic=2047.3388756109375, pvalue=0.0) \n",
      "\n",
      "NormaltestResult(statistic=1836.7206700158117, pvalue=0.0) \n",
      "\n"
     ]
    }
   ],
   "source": [
    "for i in [Washington,Arizona,Nevada,California,Oregon]:\n",
    "    print(normaltest(i),'\\n')"
   ]
  },
  {
   "cell_type": "markdown",
   "metadata": {},
   "source": [
    "CLTV of all the 'States' follow a normal distribution.\n",
    "Hence, we can perform ANOVA test"
   ]
  },
  {
   "cell_type": "code",
   "execution_count": 82,
   "metadata": {},
   "outputs": [
    {
     "data": {
      "text/plain": [
       "F_onewayResult(statistic=0.27289285462119284, pvalue=0.8955985932127517)"
      ]
     },
     "execution_count": 82,
     "metadata": {},
     "output_type": "execute_result"
    }
   ],
   "source": [
    "f_oneway(Washington,Arizona,Nevada,California,Oregon)"
   ]
  },
  {
   "cell_type": "markdown",
   "metadata": {},
   "source": [
    "* ALL STATE HAVE SAME MEAN'S OF CLTV\n",
    "* pvalue > 0.05 implies that there is no significant difference in the mean of target variable which means 'State' feature is not significant for predicting 'Customer Lifetime Value'"
   ]
  },
  {
   "cell_type": "markdown",
   "metadata": {},
   "source": [
    "### Customer Response to marketing calls v/s Customer Lifetime Value :"
   ]
  },
  {
   "cell_type": "code",
   "execution_count": 83,
   "metadata": {},
   "outputs": [],
   "source": [
    "Response = data[['Customer Lifetime Value','Response']].groupby('Response')\n",
    "No = Response['Customer Lifetime Value'].get_group('No')\n",
    "Yes = Response['Customer Lifetime Value'].get_group('Yes')"
   ]
  },
  {
   "cell_type": "code",
   "execution_count": 84,
   "metadata": {},
   "outputs": [
    {
     "name": "stdout",
     "output_type": "stream",
     "text": [
      "NormaltestResult(statistic=5322.477891516728, pvalue=0.0) \n",
      "\n",
      "NormaltestResult(statistic=639.4950779413575, pvalue=1.3658664040085885e-139) \n",
      "\n"
     ]
    }
   ],
   "source": [
    "for i in [No,Yes]:\n",
    "    print(normaltest(i),'\\n')"
   ]
  },
  {
   "cell_type": "markdown",
   "metadata": {},
   "source": [
    "CLTV of all the 'Response' follow a normal distribution.\n",
    "Hence, we can perform ANOVA test or test of mean for independent categories."
   ]
  },
  {
   "cell_type": "code",
   "execution_count": 85,
   "metadata": {},
   "outputs": [
    {
     "data": {
      "text/plain": [
       "Ttest_indResult(statistic=0.8533582829612565, pvalue=0.393483030479461)"
      ]
     },
     "execution_count": 85,
     "metadata": {},
     "output_type": "execute_result"
    }
   ],
   "source": [
    "ttest_ind(No,Yes)"
   ]
  },
  {
   "cell_type": "markdown",
   "metadata": {},
   "source": [
    "* RESPONE HAVE SAME MEAN'S OF CLTV\n",
    "* pvalue > 0.05 implies that there is no significant difference in the mean of target variable which means 'Response' feature is not significant for predicting 'Customer Lifetime Value'"
   ]
  },
  {
   "cell_type": "markdown",
   "metadata": {},
   "source": [
    "### Coverage Type v/s Customer Lifetime Value :"
   ]
  },
  {
   "cell_type": "code",
   "execution_count": 86,
   "metadata": {},
   "outputs": [],
   "source": [
    "Coverage = data[['Customer Lifetime Value','Coverage']].groupby('Coverage')\n",
    "basic = Coverage['Customer Lifetime Value'].get_group('Basic')\n",
    "extended = Coverage['Customer Lifetime Value'].get_group('Extended')\n",
    "premium = Coverage['Customer Lifetime Value'].get_group('Premium')"
   ]
  },
  {
   "cell_type": "code",
   "execution_count": 87,
   "metadata": {},
   "outputs": [
    {
     "name": "stdout",
     "output_type": "stream",
     "text": [
      "NormaltestResult(statistic=3458.849448301252, pvalue=0.0) \n",
      "\n",
      "NormaltestResult(statistic=1947.8731066934433, pvalue=0.0) \n",
      "\n",
      "NormaltestResult(statistic=503.3468946321326, pvalue=5.007380445967074e-110) \n",
      "\n"
     ]
    }
   ],
   "source": [
    "for i in [basic,extended,premium]:\n",
    "    print(normaltest(i),'\\n')"
   ]
  },
  {
   "cell_type": "markdown",
   "metadata": {},
   "source": [
    "CLTV of all the 'Coverage' follow a normal distribution.\n",
    "Hence, we can perform ANOVA test"
   ]
  },
  {
   "cell_type": "code",
   "execution_count": 88,
   "metadata": {},
   "outputs": [
    {
     "data": {
      "text/plain": [
       "F_onewayResult(statistic=133.67511419504908, pvalue=6.0158970099807e-58)"
      ]
     },
     "execution_count": 88,
     "metadata": {},
     "output_type": "execute_result"
    }
   ],
   "source": [
    "f_oneway(basic,extended,premium)"
   ]
  },
  {
   "cell_type": "markdown",
   "metadata": {},
   "source": [
    "* MEAN'S ARE NOT SAME FOR COVERAGE\n",
    "* pvalue < 0.05 implies that there is significant difference in the mean of target variable for atleast one group of 'Coverage' which means 'Coverage' feature can be a significant for predicting 'Customer Lifetime Value'"
   ]
  },
  {
   "cell_type": "markdown",
   "metadata": {},
   "source": [
    "### Education v/s Customer Lifetime Value :"
   ]
  },
  {
   "cell_type": "code",
   "execution_count": 89,
   "metadata": {},
   "outputs": [],
   "source": [
    "Education = data[['Customer Lifetime Value','Education']].groupby('Education')\n",
    "bachelor = Education['Customer Lifetime Value'].get_group('Bachelor')\n",
    "college = Education['Customer Lifetime Value'].get_group('College')\n",
    "highschool = Education['Customer Lifetime Value'].get_group('High School or Below')\n",
    "master = Education['Customer Lifetime Value'].get_group('Master')\n",
    "doctor = Education['Customer Lifetime Value'].get_group('Doctor')"
   ]
  },
  {
   "cell_type": "code",
   "execution_count": 90,
   "metadata": {},
   "outputs": [
    {
     "name": "stdout",
     "output_type": "stream",
     "text": [
      "NormaltestResult(statistic=3458.849448301252, pvalue=0.0) \n",
      "\n",
      "NormaltestResult(statistic=1808.0647185961266, pvalue=0.0) \n",
      "\n",
      "NormaltestResult(statistic=1797.622885789157, pvalue=0.0) \n",
      "\n",
      "NormaltestResult(statistic=420.3468077537673, pvalue=5.282633163257892e-92) \n",
      "\n",
      "NormaltestResult(statistic=207.1795478118804, pvalue=1.0269110120928107e-45) \n",
      "\n"
     ]
    }
   ],
   "source": [
    "for i in [basic,college,highschool,master,doctor]:\n",
    "    print(normaltest(i),'\\n')"
   ]
  },
  {
   "cell_type": "markdown",
   "metadata": {},
   "source": [
    "CLTV of all the categories of 'Education' follow a normal distribution.\n",
    "Hence, we can perform ANOVA test"
   ]
  },
  {
   "cell_type": "code",
   "execution_count": 91,
   "metadata": {},
   "outputs": [
    {
     "data": {
      "text/plain": [
       "F_onewayResult(statistic=2.4228653480521904, pvalue=0.04603615409468821)"
      ]
     },
     "execution_count": 91,
     "metadata": {},
     "output_type": "execute_result"
    }
   ],
   "source": [
    "f_oneway(bachelor,college,highschool,master,doctor)"
   ]
  },
  {
   "cell_type": "markdown",
   "metadata": {},
   "source": [
    "* MEAN'S ARE NOT SAME FOR EDUCATION\n",
    "* pvalue < 0.05 implies that there is significant difference in the mean of target variable for atleast one group of 'Education' which means 'Education' feature can be a significant for predicting 'Customer Lifetime Value'"
   ]
  },
  {
   "cell_type": "markdown",
   "metadata": {},
   "source": [
    "### Employment Status v/s Customer Lifetime Value :"
   ]
  },
  {
   "cell_type": "code",
   "execution_count": 92,
   "metadata": {},
   "outputs": [],
   "source": [
    "es = data[['Customer Lifetime Value','EmploymentStatus']].groupby('EmploymentStatus')\n",
    "employed = es['Customer Lifetime Value'].get_group('Employed')\n",
    "unemployed = es['Customer Lifetime Value'].get_group('Unemployed')\n",
    "medleave = es['Customer Lifetime Value'].get_group('Medical Leave')\n",
    "disabled = es['Customer Lifetime Value'].get_group('Disabled')\n",
    "retired = es['Customer Lifetime Value'].get_group('Retired')"
   ]
  },
  {
   "cell_type": "code",
   "execution_count": 93,
   "metadata": {},
   "outputs": [
    {
     "name": "stdout",
     "output_type": "stream",
     "text": [
      "NormaltestResult(statistic=3761.129277691408, pvalue=0.0) \n",
      "\n",
      "NormaltestResult(statistic=1679.139433825762, pvalue=0.0) \n",
      "\n",
      "NormaltestResult(statistic=235.4863106944144, pvalue=7.324826645525092e-52) \n",
      "\n",
      "NormaltestResult(statistic=276.0845869374091, pvalue=1.119421586116707e-60) \n",
      "\n",
      "NormaltestResult(statistic=99.68654915712415, pvalue=2.256009325581312e-22) \n",
      "\n"
     ]
    }
   ],
   "source": [
    "for i in [employed,unemployed,medleave,disabled,retired]:\n",
    "    print(normaltest(i),'\\n')"
   ]
  },
  {
   "cell_type": "markdown",
   "metadata": {},
   "source": [
    "CLTV of all the categories of 'Employment Status' follow a normal distribution.\n",
    "Hence, we can perform ANOVA test"
   ]
  },
  {
   "cell_type": "code",
   "execution_count": 94,
   "metadata": {},
   "outputs": [
    {
     "data": {
      "text/plain": [
       "F_onewayResult(statistic=3.809808710328605, pvalue=0.00425058662383102)"
      ]
     },
     "execution_count": 94,
     "metadata": {},
     "output_type": "execute_result"
    }
   ],
   "source": [
    "f_oneway(employed,unemployed,medleave,disabled,retired)"
   ]
  },
  {
   "cell_type": "markdown",
   "metadata": {},
   "source": [
    "* MEAN'S ARE NOT SAME FOR Employment Status\n",
    "* pvalue < 0.05 implies that there is significant difference in the mean of target variable for atleast one group of 'Employment Status' which means 'Employment Status' feature can be a significant for predicting 'Customer Lifetime Value'"
   ]
  },
  {
   "cell_type": "markdown",
   "metadata": {},
   "source": [
    "### Gender v/s Customer Lifetime Value :"
   ]
  },
  {
   "cell_type": "code",
   "execution_count": 95,
   "metadata": {},
   "outputs": [],
   "source": [
    "g = data[['Customer Lifetime Value','Gender']].groupby('Gender')\n",
    "f = g['Customer Lifetime Value'].get_group('F')\n",
    "m = g['Customer Lifetime Value'].get_group('M')"
   ]
  },
  {
   "cell_type": "code",
   "execution_count": 96,
   "metadata": {},
   "outputs": [
    {
     "name": "stdout",
     "output_type": "stream",
     "text": [
      "NormaltestResult(statistic=2834.0749107540296, pvalue=0.0) \n",
      "\n",
      "NormaltestResult(statistic=3243.1471942337193, pvalue=0.0) \n",
      "\n"
     ]
    }
   ],
   "source": [
    "for i in [f,m]:\n",
    "    print(normaltest(i),'\\n')"
   ]
  },
  {
   "cell_type": "markdown",
   "metadata": {},
   "source": [
    "CLTV of all the categories of 'Gender' follow a normal distribution.\n",
    "Hence, we can perform ANOVA test or test of mean for independent features."
   ]
  },
  {
   "cell_type": "code",
   "execution_count": 97,
   "metadata": {},
   "outputs": [
    {
     "data": {
      "text/plain": [
       "Ttest_indResult(statistic=1.300686352501256, pvalue=0.19339865630769232)"
      ]
     },
     "execution_count": 97,
     "metadata": {},
     "output_type": "execute_result"
    }
   ],
   "source": [
    "ttest_ind(f,m)"
   ]
  },
  {
   "cell_type": "markdown",
   "metadata": {},
   "source": [
    "* MEAN'S ARE SAME FOR GENDER\n",
    "* pvalue > 0.05 implies that there is no significant difference in the mean of target variable for 'Gender' which means 'Gender' feature is not significant for predicting 'Customer Lifetime Value'"
   ]
  },
  {
   "cell_type": "markdown",
   "metadata": {},
   "source": [
    "### Location Code v/s Customer Lifetime Value :"
   ]
  },
  {
   "cell_type": "code",
   "execution_count": 98,
   "metadata": {},
   "outputs": [],
   "source": [
    "location = data[['Customer Lifetime Value','Location Code']].groupby('Location Code')\n",
    "sub = location['Customer Lifetime Value'].get_group('Suburban')\n",
    "urban = location['Customer Lifetime Value'].get_group('Urban')\n",
    "rural = location['Customer Lifetime Value'].get_group('Rural')"
   ]
  },
  {
   "cell_type": "code",
   "execution_count": 99,
   "metadata": {},
   "outputs": [
    {
     "name": "stdout",
     "output_type": "stream",
     "text": [
      "NormaltestResult(statistic=4001.809435806882, pvalue=0.0) \n",
      "\n",
      "NormaltestResult(statistic=941.3620057193798, pvalue=3.8533434657380165e-205) \n",
      "\n",
      "NormaltestResult(statistic=1122.9340758970607, pvalue=1.4386781520042673e-244) \n",
      "\n"
     ]
    }
   ],
   "source": [
    "for i in [sub,urban,rural]:\n",
    "    print(normaltest(i),'\\n')"
   ]
  },
  {
   "cell_type": "markdown",
   "metadata": {},
   "source": [
    "CLTV of all the categories of 'Location Code' follow a normal distribution.\n",
    "Hence, we can perform ANOVA test"
   ]
  },
  {
   "cell_type": "code",
   "execution_count": 100,
   "metadata": {},
   "outputs": [
    {
     "data": {
      "text/plain": [
       "F_onewayResult(statistic=0.10800210605345337, pvalue=0.8976268526407198)"
      ]
     },
     "execution_count": 100,
     "metadata": {},
     "output_type": "execute_result"
    }
   ],
   "source": [
    "f_oneway(sub,urban,rural)"
   ]
  },
  {
   "cell_type": "markdown",
   "metadata": {},
   "source": [
    "* MEAN'S ARE SAME FOR LOCATION CODE\n",
    "* pvalue > 0.05 implies that there is no significant difference in the mean of target variable for 'Location Code' which means 'Location Code' feature is not significant for predicting 'Customer Lifetime Value'"
   ]
  },
  {
   "cell_type": "markdown",
   "metadata": {},
   "source": [
    "### Marital Status v/s Customer Lifetime Value :"
   ]
  },
  {
   "cell_type": "code",
   "execution_count": 101,
   "metadata": {},
   "outputs": [],
   "source": [
    "MaritalStatus = data[['Customer Lifetime Value','Marital Status']].groupby('Marital Status')\n",
    "Married = MaritalStatus['Customer Lifetime Value'].get_group('Married')\n",
    "Single = MaritalStatus['Customer Lifetime Value'].get_group('Single')\n",
    "Divorced = MaritalStatus['Customer Lifetime Value'].get_group('Divorced')"
   ]
  },
  {
   "cell_type": "code",
   "execution_count": 102,
   "metadata": {},
   "outputs": [
    {
     "name": "stdout",
     "output_type": "stream",
     "text": [
      "NormaltestResult(statistic=3677.216857754807, pvalue=0.0) \n",
      "\n",
      "NormaltestResult(statistic=1721.914498898464, pvalue=0.0) \n",
      "\n",
      "NormaltestResult(statistic=680.597010523175, pvalue=1.6226952503119905e-148) \n",
      "\n"
     ]
    }
   ],
   "source": [
    "for i in [Married,Single,Divorced]:\n",
    "    print(normaltest(i),'\\n')"
   ]
  },
  {
   "cell_type": "markdown",
   "metadata": {},
   "source": [
    "CLTV of all the categories of 'Location Code' follow a normal distribution.\n",
    "Hence, we can perform ANOVA test"
   ]
  },
  {
   "cell_type": "code",
   "execution_count": 103,
   "metadata": {},
   "outputs": [
    {
     "data": {
      "text/plain": [
       "F_onewayResult(statistic=3.317664937589139, pvalue=0.036281036735873)"
      ]
     },
     "execution_count": 103,
     "metadata": {},
     "output_type": "execute_result"
    }
   ],
   "source": [
    "f_oneway(Married,Single,Divorced)"
   ]
  },
  {
   "cell_type": "markdown",
   "metadata": {},
   "source": [
    "* MEANS ARE NOT SAME Marital Status\n",
    "* pvalue < 0.05 implies that there is significant difference in the mean of target variable for at least on Group of 'Marital Status' which means 'Marital Status' feature can be significant for predicting 'Customer Lifetime Value'"
   ]
  },
  {
   "cell_type": "markdown",
   "metadata": {},
   "source": [
    "### Policy v/s Customer Lifetime Value :"
   ]
  },
  {
   "cell_type": "code",
   "execution_count": 104,
   "metadata": {},
   "outputs": [],
   "source": [
    "Policy  = data[['Customer Lifetime Value','Policy']].groupby('Policy')\n",
    "p3 = Policy['Customer Lifetime Value'].get_group('Personal L3')\n",
    "p2 = Policy['Customer Lifetime Value'].get_group('Personal L2')\n",
    "p1 = Policy['Customer Lifetime Value'].get_group('Personal L1')\n",
    "c3 = Policy['Customer Lifetime Value'].get_group('Corporate L3')\n",
    "c2 = Policy['Customer Lifetime Value'].get_group('Corporate L2')\n",
    "c1 = Policy['Customer Lifetime Value'].get_group('Corporate L1')\n",
    "s3 = Policy['Customer Lifetime Value'].get_group('Special L3')\n",
    "s2 = Policy['Customer Lifetime Value'].get_group('Special L2')\n",
    "s1 = Policy['Customer Lifetime Value'].get_group('Special L1')"
   ]
  },
  {
   "cell_type": "code",
   "execution_count": 105,
   "metadata": {},
   "outputs": [
    {
     "name": "stdout",
     "output_type": "stream",
     "text": [
      "NormaltestResult(statistic=2454.8806553250483, pvalue=0.0) \n",
      "\n",
      "NormaltestResult(statistic=1239.8942061958492, pvalue=5.7596229383194274e-270) \n",
      "\n",
      "NormaltestResult(statistic=992.9674497188381, pvalue=2.3980483698011588e-216) \n",
      "\n",
      "NormaltestResult(statistic=605.9012411656124, pvalue=2.6928811836326553e-132) \n",
      "\n",
      "NormaltestResult(statistic=373.09668872516477, pvalue=9.617970377316392e-82) \n",
      "\n",
      "NormaltestResult(statistic=187.8953648881132, pvalue=1.5813934182974064e-41) \n",
      "\n",
      "NormaltestResult(statistic=81.04251038237228, pvalue=2.52256560971873e-18) \n",
      "\n",
      "NormaltestResult(statistic=98.75159886489641, pvalue=3.6004995993148485e-22) \n",
      "\n",
      "NormaltestResult(statistic=19.415176797916622, pvalue=6.0820211456712794e-05) \n",
      "\n"
     ]
    }
   ],
   "source": [
    "for i in [p3,p2,p1,c3,c2,c1,s3,s2,s1]:\n",
    "    print(normaltest(i),'\\n')"
   ]
  },
  {
   "cell_type": "markdown",
   "metadata": {},
   "source": [
    "CLTV of all the categories of 'Policy' follow a normal distribution.\n",
    "Hence, we can perform ANOVA test"
   ]
  },
  {
   "cell_type": "code",
   "execution_count": 106,
   "metadata": {},
   "outputs": [
    {
     "data": {
      "text/plain": [
       "F_onewayResult(statistic=1.1839990669675131, pvalue=0.3041951364145143)"
      ]
     },
     "execution_count": 106,
     "metadata": {},
     "output_type": "execute_result"
    }
   ],
   "source": [
    "f_oneway(p3,p2,p1,c3,c2,c1,s3,s2,s1)"
   ]
  },
  {
   "cell_type": "markdown",
   "metadata": {},
   "source": [
    "* MEANS ARE SAME Marital Status\n",
    "* pvalue > 0.05 implies that there is no significant difference in the mean of target variable for 'Policy' which means 'Policy' feature is not significant for predicting 'Customer Lifetime Value'"
   ]
  },
  {
   "cell_type": "markdown",
   "metadata": {},
   "source": [
    "### Renew Offer Type vs Customer Lifetime Value :"
   ]
  },
  {
   "cell_type": "code",
   "execution_count": 107,
   "metadata": {},
   "outputs": [],
   "source": [
    "R  = data[['Customer Lifetime Value','Renew Offer Type']].groupby('Renew Offer Type')\n",
    "o1 = R['Customer Lifetime Value'].get_group('Offer1')\n",
    "o2 = R['Customer Lifetime Value'].get_group('Offer2')\n",
    "o3 = R['Customer Lifetime Value'].get_group('Offer3')\n",
    "o4 = R['Customer Lifetime Value'].get_group('Offer4')"
   ]
  },
  {
   "cell_type": "code",
   "execution_count": 108,
   "metadata": {},
   "outputs": [
    {
     "name": "stdout",
     "output_type": "stream",
     "text": [
      "NormaltestResult(statistic=2617.6948383126864, pvalue=0.0) \n",
      "\n",
      "NormaltestResult(statistic=1936.9308789084942, pvalue=0.0) \n",
      "\n",
      "NormaltestResult(statistic=815.8559270625346, pvalue=6.904566619974463e-178) \n",
      "\n",
      "NormaltestResult(statistic=642.2059295134014, pvalue=3.5217156184052177e-140) \n",
      "\n"
     ]
    }
   ],
   "source": [
    "for i in [o1,o2,o3,o4]:\n",
    "    print(normaltest(i),'\\n')"
   ]
  },
  {
   "cell_type": "markdown",
   "metadata": {},
   "source": [
    "CLTV of all the categories of 'Renew Offer Type' follow a normal distribution.\n",
    "Hence, we can perform ANOVA test"
   ]
  },
  {
   "cell_type": "code",
   "execution_count": 109,
   "metadata": {},
   "outputs": [
    {
     "data": {
      "text/plain": [
       "F_onewayResult(statistic=25.83261444494041, pvalue=1.238399930571374e-16)"
      ]
     },
     "execution_count": 109,
     "metadata": {},
     "output_type": "execute_result"
    }
   ],
   "source": [
    "f_oneway(o1,o2,o3,o4)"
   ]
  },
  {
   "cell_type": "markdown",
   "metadata": {},
   "source": [
    "* MEANS ARE NOT SAME FOR Renew Offer Type \n",
    "* pvalue < 0.05 implies that there is significant difference in the mean of target variable for at least on Group of 'Renew Offer Type' which means 'Renew Offer Type' feature can be significant for predicting 'Customer Lifetime Value'"
   ]
  },
  {
   "cell_type": "markdown",
   "metadata": {},
   "source": [
    "### Sales Channel vs Customer Lifetime Value :"
   ]
  },
  {
   "cell_type": "code",
   "execution_count": 110,
   "metadata": {},
   "outputs": [],
   "source": [
    "Sales  = data[['Customer Lifetime Value','Sales Channel']].groupby('Sales Channel')\n",
    "agent = Sales['Customer Lifetime Value'].get_group('Agent')\n",
    "branch = Sales['Customer Lifetime Value'].get_group('Branch')\n",
    "call = Sales['Customer Lifetime Value'].get_group('Call Center')\n",
    "web = Sales['Customer Lifetime Value'].get_group('Web')"
   ]
  },
  {
   "cell_type": "code",
   "execution_count": 111,
   "metadata": {},
   "outputs": [
    {
     "name": "stdout",
     "output_type": "stream",
     "text": [
      "NormaltestResult(statistic=2249.8117586071908, pvalue=0.0) \n",
      "\n",
      "NormaltestResult(statistic=1778.5170859072064, pvalue=0.0) \n",
      "\n",
      "NormaltestResult(statistic=1209.3339649106563, pvalue=2.4915300560589623e-263) \n",
      "\n",
      "NormaltestResult(statistic=866.0244616685382, pvalue=8.814091447361906e-189) \n",
      "\n"
     ]
    }
   ],
   "source": [
    "for i in [agent,branch,call,web]:\n",
    "    print(normaltest(i),'\\n')"
   ]
  },
  {
   "cell_type": "markdown",
   "metadata": {},
   "source": [
    "CLTV of all the categories of 'Sales Channel' follow a normal distribution.\n",
    "Hence, we can perform ANOVA test"
   ]
  },
  {
   "cell_type": "code",
   "execution_count": 112,
   "metadata": {},
   "outputs": [
    {
     "data": {
      "text/plain": [
       "F_onewayResult(statistic=0.8805454785276248, pvalue=0.4502779502550758)"
      ]
     },
     "execution_count": 112,
     "metadata": {},
     "output_type": "execute_result"
    }
   ],
   "source": [
    "f_oneway(agent,branch,call,web)"
   ]
  },
  {
   "cell_type": "markdown",
   "metadata": {},
   "source": [
    "* MEANS ARE SAME for Sales Channel\n",
    "* pvalue > 0.05 implies that there is no significant difference in the mean of target variable for 'Sales Channel' which means 'Sales Channel' feature is not significant for predicting 'Customer Lifetime Value'"
   ]
  },
  {
   "cell_type": "markdown",
   "metadata": {},
   "source": [
    "### Vehicle Class vs Customer Lifetime Value :"
   ]
  },
  {
   "cell_type": "code",
   "execution_count": 113,
   "metadata": {},
   "outputs": [],
   "source": [
    "VC  = data[['Customer Lifetime Value','Vehicle Class']].groupby('Vehicle Class')\n",
    "fd = VC['Customer Lifetime Value'].get_group('Four-Door Car')\n",
    "td = VC['Customer Lifetime Value'].get_group('Two-Door Car')\n",
    "suv = VC['Customer Lifetime Value'].get_group('SUV')\n",
    "sc = VC['Customer Lifetime Value'].get_group('Sports Car')\n",
    "ls = VC['Customer Lifetime Value'].get_group('Luxury SUV')\n",
    "lc = VC['Customer Lifetime Value'].get_group('Luxury Car')"
   ]
  },
  {
   "cell_type": "code",
   "execution_count": 114,
   "metadata": {},
   "outputs": [
    {
     "name": "stdout",
     "output_type": "stream",
     "text": [
      "NormaltestResult(statistic=2591.5563098196517, pvalue=0.0) \n",
      "\n",
      "NormaltestResult(statistic=967.8795815175732, pvalue=6.723869874448458e-211) \n",
      "\n",
      "NormaltestResult(statistic=911.8062937987764, pvalue=1.0087394816479343e-198) \n",
      "\n",
      "NormaltestResult(statistic=256.8651916324882, pvalue=1.6689077848613138e-56) \n",
      "\n",
      "NormaltestResult(statistic=93.79133396550114, pvalue=4.300021273979593e-21) \n",
      "\n",
      "NormaltestResult(statistic=112.96534867020267, pvalue=2.9504360994555045e-25) \n",
      "\n"
     ]
    }
   ],
   "source": [
    "for i in [fd,td,suv,sc,ls,lc]:\n",
    "    print(normaltest(i),'\\n')"
   ]
  },
  {
   "cell_type": "markdown",
   "metadata": {},
   "source": [
    "CLTV of all the categories of 'Vehicle Class' follow a normal distribution.\n",
    "Hence, we can perform ANOVA test"
   ]
  },
  {
   "cell_type": "code",
   "execution_count": 115,
   "metadata": {},
   "outputs": [
    {
     "data": {
      "text/plain": [
       "F_onewayResult(statistic=267.1581168024349, pvalue=2.085525760212929e-267)"
      ]
     },
     "execution_count": 115,
     "metadata": {},
     "output_type": "execute_result"
    }
   ],
   "source": [
    "f_oneway(fd,td,suv,sc,ls,lc)"
   ]
  },
  {
   "cell_type": "markdown",
   "metadata": {},
   "source": [
    "* MEANS ARE NOT SAME FOR Vehicle Class \n",
    "* pvalue < 0.05 implies that there is significant difference in the mean of target variable for at least on Group of 'Vehicle Class' which means 'Vehicle Class' feature can be significant for predicting 'Customer Lifetime Value'"
   ]
  },
  {
   "cell_type": "markdown",
   "metadata": {},
   "source": [
    "### Vehicle Size v/s Customer Lifetime Value :"
   ]
  },
  {
   "cell_type": "code",
   "execution_count": 116,
   "metadata": {},
   "outputs": [],
   "source": [
    "VS  = data[['Customer Lifetime Value','Vehicle Size']].groupby('Vehicle Size')\n",
    "m = VS['Customer Lifetime Value'].get_group('Medsize')\n",
    "s = VS['Customer Lifetime Value'].get_group('Small')\n",
    "l = VS['Customer Lifetime Value'].get_group('Large')"
   ]
  },
  {
   "cell_type": "code",
   "execution_count": 117,
   "metadata": {},
   "outputs": [
    {
     "name": "stdout",
     "output_type": "stream",
     "text": [
      "NormaltestResult(statistic=4107.297603156226, pvalue=0.0) \n",
      "\n",
      "NormaltestResult(statistic=1277.51103714535, pvalue=3.908435944085235e-278) \n",
      "\n",
      "NormaltestResult(statistic=710.5562496753278, pvalue=5.066065984237427e-155) \n",
      "\n"
     ]
    }
   ],
   "source": [
    "for i in [m,s,l]:\n",
    "    print(normaltest(i),'\\n')"
   ]
  },
  {
   "cell_type": "markdown",
   "metadata": {},
   "source": [
    "CLTV of all the categories of 'Vehicle Size' follow a normal distribution.\n",
    "Hence, we can perform ANOVA test"
   ]
  },
  {
   "cell_type": "code",
   "execution_count": 118,
   "metadata": {},
   "outputs": [
    {
     "data": {
      "text/plain": [
       "F_onewayResult(statistic=2.382494601032998, pvalue=0.09237737701331775)"
      ]
     },
     "execution_count": 118,
     "metadata": {},
     "output_type": "execute_result"
    }
   ],
   "source": [
    "f_oneway(m,s,l)"
   ]
  },
  {
   "cell_type": "markdown",
   "metadata": {},
   "source": [
    "* MEANS ARE SAME for Vehicle Size\n",
    "* pvalue > 0.05 implies that there is no significant difference in the mean of target variable for 'Vehicle Size' which means 'Vehicle Size' feature is not significant for predicting 'Customer Lifetime Value'"
   ]
  },
  {
   "cell_type": "markdown",
   "metadata": {},
   "source": [
    "# Furthur Modelling:"
   ]
  },
  {
   "cell_type": "markdown",
   "metadata": {},
   "source": [
    "- So we did the EDA and also the Statistical Analysis, so now we can just dis regard the feature's which we saw that wouldnt contribute for our model."
   ]
  },
  {
   "cell_type": "code",
   "execution_count": 119,
   "metadata": {},
   "outputs": [],
   "source": [
    "data.drop(['State','Customer','Response','EmploymentStatus','Gender','Location Code','Vehicle Size','Policy','Policy Type','Sales Channel','Income','Effective To Date','Education'],axis=1,inplace = True)"
   ]
  },
  {
   "cell_type": "code",
   "execution_count": 120,
   "metadata": {},
   "outputs": [
    {
     "data": {
      "text/html": [
       "<div>\n",
       "<style scoped>\n",
       "    .dataframe tbody tr th:only-of-type {\n",
       "        vertical-align: middle;\n",
       "    }\n",
       "\n",
       "    .dataframe tbody tr th {\n",
       "        vertical-align: top;\n",
       "    }\n",
       "\n",
       "    .dataframe thead th {\n",
       "        text-align: right;\n",
       "    }\n",
       "</style>\n",
       "<table border=\"1\" class=\"dataframe\">\n",
       "  <thead>\n",
       "    <tr style=\"text-align: right;\">\n",
       "      <th></th>\n",
       "      <th>Customer Lifetime Value</th>\n",
       "      <th>Coverage</th>\n",
       "      <th>Marital Status</th>\n",
       "      <th>Monthly Premium Auto</th>\n",
       "      <th>Months Since Last Claim</th>\n",
       "      <th>Months Since Policy Inception</th>\n",
       "      <th>Number of Open Complaints</th>\n",
       "      <th>Number of Policies</th>\n",
       "      <th>Renew Offer Type</th>\n",
       "      <th>Total Claim Amount</th>\n",
       "      <th>Vehicle Class</th>\n",
       "    </tr>\n",
       "  </thead>\n",
       "  <tbody>\n",
       "    <tr>\n",
       "      <th>0</th>\n",
       "      <td>2763.519279</td>\n",
       "      <td>Basic</td>\n",
       "      <td>Married</td>\n",
       "      <td>69</td>\n",
       "      <td>32</td>\n",
       "      <td>5</td>\n",
       "      <td>0</td>\n",
       "      <td>1</td>\n",
       "      <td>Offer1</td>\n",
       "      <td>384.811147</td>\n",
       "      <td>Two-Door Car</td>\n",
       "    </tr>\n",
       "    <tr>\n",
       "      <th>1</th>\n",
       "      <td>6979.535903</td>\n",
       "      <td>Extended</td>\n",
       "      <td>Single</td>\n",
       "      <td>94</td>\n",
       "      <td>13</td>\n",
       "      <td>42</td>\n",
       "      <td>0</td>\n",
       "      <td>8</td>\n",
       "      <td>Offer3</td>\n",
       "      <td>1131.464935</td>\n",
       "      <td>Four-Door Car</td>\n",
       "    </tr>\n",
       "    <tr>\n",
       "      <th>2</th>\n",
       "      <td>12887.431650</td>\n",
       "      <td>Premium</td>\n",
       "      <td>Married</td>\n",
       "      <td>108</td>\n",
       "      <td>18</td>\n",
       "      <td>38</td>\n",
       "      <td>0</td>\n",
       "      <td>2</td>\n",
       "      <td>Offer1</td>\n",
       "      <td>566.472247</td>\n",
       "      <td>Two-Door Car</td>\n",
       "    </tr>\n",
       "    <tr>\n",
       "      <th>3</th>\n",
       "      <td>7645.861827</td>\n",
       "      <td>Basic</td>\n",
       "      <td>Married</td>\n",
       "      <td>106</td>\n",
       "      <td>18</td>\n",
       "      <td>65</td>\n",
       "      <td>0</td>\n",
       "      <td>7</td>\n",
       "      <td>Offer1</td>\n",
       "      <td>529.881344</td>\n",
       "      <td>SUV</td>\n",
       "    </tr>\n",
       "    <tr>\n",
       "      <th>4</th>\n",
       "      <td>2813.692575</td>\n",
       "      <td>Basic</td>\n",
       "      <td>Single</td>\n",
       "      <td>73</td>\n",
       "      <td>12</td>\n",
       "      <td>44</td>\n",
       "      <td>0</td>\n",
       "      <td>1</td>\n",
       "      <td>Offer1</td>\n",
       "      <td>138.130879</td>\n",
       "      <td>Four-Door Car</td>\n",
       "    </tr>\n",
       "  </tbody>\n",
       "</table>\n",
       "</div>"
      ],
      "text/plain": [
       "   Customer Lifetime Value  Coverage Marital Status  Monthly Premium Auto  \\\n",
       "0              2763.519279     Basic        Married                    69   \n",
       "1              6979.535903  Extended         Single                    94   \n",
       "2             12887.431650   Premium        Married                   108   \n",
       "3              7645.861827     Basic        Married                   106   \n",
       "4              2813.692575     Basic         Single                    73   \n",
       "\n",
       "   Months Since Last Claim  Months Since Policy Inception  \\\n",
       "0                       32                              5   \n",
       "1                       13                             42   \n",
       "2                       18                             38   \n",
       "3                       18                             65   \n",
       "4                       12                             44   \n",
       "\n",
       "   Number of Open Complaints  Number of Policies Renew Offer Type  \\\n",
       "0                          0                   1           Offer1   \n",
       "1                          0                   8           Offer3   \n",
       "2                          0                   2           Offer1   \n",
       "3                          0                   7           Offer1   \n",
       "4                          0                   1           Offer1   \n",
       "\n",
       "   Total Claim Amount  Vehicle Class  \n",
       "0          384.811147   Two-Door Car  \n",
       "1         1131.464935  Four-Door Car  \n",
       "2          566.472247   Two-Door Car  \n",
       "3          529.881344            SUV  \n",
       "4          138.130879  Four-Door Car  "
      ]
     },
     "execution_count": 120,
     "metadata": {},
     "output_type": "execute_result"
    }
   ],
   "source": [
    "data.head()"
   ]
  },
  {
   "cell_type": "markdown",
   "metadata": {},
   "source": [
    "- Though the feature's months since policy inception, months since last claim, number of open complaints and number of policies are all numerical, but they are discrete number's and we will consider them as categorical feature's while preparing the model."
   ]
  },
  {
   "cell_type": "markdown",
   "metadata": {},
   "source": [
    "- Firstly, according to our EDA, we saw that the number of policies >= 3 have similar trend so we will group all of them as 3"
   ]
  },
  {
   "cell_type": "code",
   "execution_count": 121,
   "metadata": {},
   "outputs": [],
   "source": [
    "data['Number of Policies'] = np.where(data['Number of Policies']>2,3,data['Number of Policies'])"
   ]
  },
  {
   "cell_type": "markdown",
   "metadata": {},
   "source": [
    "Second, when we convert the numerical feature's to categorical, our normal practice is label encoding for ordinal data and one hot for nominal data, but we can also use one hot encoding for ordinal data if there isnt any curse of dimensionality, so we will convert the categorical to numerical with one-hot encoding / dummification."
   ]
  },
  {
   "cell_type": "code",
   "execution_count": 122,
   "metadata": {},
   "outputs": [],
   "source": [
    "new = pd.get_dummies(data,columns=['Coverage','Marital Status','Number of Policies','Renew Offer Type','Vehicle Class'],drop_first=True)"
   ]
  },
  {
   "cell_type": "code",
   "execution_count": 123,
   "metadata": {},
   "outputs": [
    {
     "data": {
      "text/html": [
       "<div>\n",
       "<style scoped>\n",
       "    .dataframe tbody tr th:only-of-type {\n",
       "        vertical-align: middle;\n",
       "    }\n",
       "\n",
       "    .dataframe tbody tr th {\n",
       "        vertical-align: top;\n",
       "    }\n",
       "\n",
       "    .dataframe thead th {\n",
       "        text-align: right;\n",
       "    }\n",
       "</style>\n",
       "<table border=\"1\" class=\"dataframe\">\n",
       "  <thead>\n",
       "    <tr style=\"text-align: right;\">\n",
       "      <th></th>\n",
       "      <th>Customer Lifetime Value</th>\n",
       "      <th>Monthly Premium Auto</th>\n",
       "      <th>Months Since Last Claim</th>\n",
       "      <th>Months Since Policy Inception</th>\n",
       "      <th>Number of Open Complaints</th>\n",
       "      <th>Total Claim Amount</th>\n",
       "      <th>Coverage_Extended</th>\n",
       "      <th>Coverage_Premium</th>\n",
       "      <th>Marital Status_Married</th>\n",
       "      <th>Marital Status_Single</th>\n",
       "      <th>Number of Policies_2</th>\n",
       "      <th>Number of Policies_3</th>\n",
       "      <th>Renew Offer Type_Offer2</th>\n",
       "      <th>Renew Offer Type_Offer3</th>\n",
       "      <th>Renew Offer Type_Offer4</th>\n",
       "      <th>Vehicle Class_Luxury Car</th>\n",
       "      <th>Vehicle Class_Luxury SUV</th>\n",
       "      <th>Vehicle Class_SUV</th>\n",
       "      <th>Vehicle Class_Sports Car</th>\n",
       "      <th>Vehicle Class_Two-Door Car</th>\n",
       "    </tr>\n",
       "  </thead>\n",
       "  <tbody>\n",
       "    <tr>\n",
       "      <th>0</th>\n",
       "      <td>2763.519279</td>\n",
       "      <td>69</td>\n",
       "      <td>32</td>\n",
       "      <td>5</td>\n",
       "      <td>0</td>\n",
       "      <td>384.811147</td>\n",
       "      <td>0</td>\n",
       "      <td>0</td>\n",
       "      <td>1</td>\n",
       "      <td>0</td>\n",
       "      <td>0</td>\n",
       "      <td>0</td>\n",
       "      <td>0</td>\n",
       "      <td>0</td>\n",
       "      <td>0</td>\n",
       "      <td>0</td>\n",
       "      <td>0</td>\n",
       "      <td>0</td>\n",
       "      <td>0</td>\n",
       "      <td>1</td>\n",
       "    </tr>\n",
       "    <tr>\n",
       "      <th>1</th>\n",
       "      <td>6979.535903</td>\n",
       "      <td>94</td>\n",
       "      <td>13</td>\n",
       "      <td>42</td>\n",
       "      <td>0</td>\n",
       "      <td>1131.464935</td>\n",
       "      <td>1</td>\n",
       "      <td>0</td>\n",
       "      <td>0</td>\n",
       "      <td>1</td>\n",
       "      <td>0</td>\n",
       "      <td>1</td>\n",
       "      <td>0</td>\n",
       "      <td>1</td>\n",
       "      <td>0</td>\n",
       "      <td>0</td>\n",
       "      <td>0</td>\n",
       "      <td>0</td>\n",
       "      <td>0</td>\n",
       "      <td>0</td>\n",
       "    </tr>\n",
       "    <tr>\n",
       "      <th>2</th>\n",
       "      <td>12887.431650</td>\n",
       "      <td>108</td>\n",
       "      <td>18</td>\n",
       "      <td>38</td>\n",
       "      <td>0</td>\n",
       "      <td>566.472247</td>\n",
       "      <td>0</td>\n",
       "      <td>1</td>\n",
       "      <td>1</td>\n",
       "      <td>0</td>\n",
       "      <td>1</td>\n",
       "      <td>0</td>\n",
       "      <td>0</td>\n",
       "      <td>0</td>\n",
       "      <td>0</td>\n",
       "      <td>0</td>\n",
       "      <td>0</td>\n",
       "      <td>0</td>\n",
       "      <td>0</td>\n",
       "      <td>1</td>\n",
       "    </tr>\n",
       "    <tr>\n",
       "      <th>3</th>\n",
       "      <td>7645.861827</td>\n",
       "      <td>106</td>\n",
       "      <td>18</td>\n",
       "      <td>65</td>\n",
       "      <td>0</td>\n",
       "      <td>529.881344</td>\n",
       "      <td>0</td>\n",
       "      <td>0</td>\n",
       "      <td>1</td>\n",
       "      <td>0</td>\n",
       "      <td>0</td>\n",
       "      <td>1</td>\n",
       "      <td>0</td>\n",
       "      <td>0</td>\n",
       "      <td>0</td>\n",
       "      <td>0</td>\n",
       "      <td>0</td>\n",
       "      <td>1</td>\n",
       "      <td>0</td>\n",
       "      <td>0</td>\n",
       "    </tr>\n",
       "    <tr>\n",
       "      <th>4</th>\n",
       "      <td>2813.692575</td>\n",
       "      <td>73</td>\n",
       "      <td>12</td>\n",
       "      <td>44</td>\n",
       "      <td>0</td>\n",
       "      <td>138.130879</td>\n",
       "      <td>0</td>\n",
       "      <td>0</td>\n",
       "      <td>0</td>\n",
       "      <td>1</td>\n",
       "      <td>0</td>\n",
       "      <td>0</td>\n",
       "      <td>0</td>\n",
       "      <td>0</td>\n",
       "      <td>0</td>\n",
       "      <td>0</td>\n",
       "      <td>0</td>\n",
       "      <td>0</td>\n",
       "      <td>0</td>\n",
       "      <td>0</td>\n",
       "    </tr>\n",
       "  </tbody>\n",
       "</table>\n",
       "</div>"
      ],
      "text/plain": [
       "   Customer Lifetime Value  Monthly Premium Auto  Months Since Last Claim  \\\n",
       "0              2763.519279                    69                       32   \n",
       "1              6979.535903                    94                       13   \n",
       "2             12887.431650                   108                       18   \n",
       "3              7645.861827                   106                       18   \n",
       "4              2813.692575                    73                       12   \n",
       "\n",
       "   Months Since Policy Inception  Number of Open Complaints  \\\n",
       "0                              5                          0   \n",
       "1                             42                          0   \n",
       "2                             38                          0   \n",
       "3                             65                          0   \n",
       "4                             44                          0   \n",
       "\n",
       "   Total Claim Amount  Coverage_Extended  Coverage_Premium  \\\n",
       "0          384.811147                  0                 0   \n",
       "1         1131.464935                  1                 0   \n",
       "2          566.472247                  0                 1   \n",
       "3          529.881344                  0                 0   \n",
       "4          138.130879                  0                 0   \n",
       "\n",
       "   Marital Status_Married  Marital Status_Single  Number of Policies_2  \\\n",
       "0                       1                      0                     0   \n",
       "1                       0                      1                     0   \n",
       "2                       1                      0                     1   \n",
       "3                       1                      0                     0   \n",
       "4                       0                      1                     0   \n",
       "\n",
       "   Number of Policies_3  Renew Offer Type_Offer2  Renew Offer Type_Offer3  \\\n",
       "0                     0                        0                        0   \n",
       "1                     1                        0                        1   \n",
       "2                     0                        0                        0   \n",
       "3                     1                        0                        0   \n",
       "4                     0                        0                        0   \n",
       "\n",
       "   Renew Offer Type_Offer4  Vehicle Class_Luxury Car  \\\n",
       "0                        0                         0   \n",
       "1                        0                         0   \n",
       "2                        0                         0   \n",
       "3                        0                         0   \n",
       "4                        0                         0   \n",
       "\n",
       "   Vehicle Class_Luxury SUV  Vehicle Class_SUV  Vehicle Class_Sports Car  \\\n",
       "0                         0                  0                         0   \n",
       "1                         0                  0                         0   \n",
       "2                         0                  0                         0   \n",
       "3                         0                  1                         0   \n",
       "4                         0                  0                         0   \n",
       "\n",
       "   Vehicle Class_Two-Door Car  \n",
       "0                           1  \n",
       "1                           0  \n",
       "2                           1  \n",
       "3                           0  \n",
       "4                           0  "
      ]
     },
     "execution_count": 123,
     "metadata": {},
     "output_type": "execute_result"
    }
   ],
   "source": [
    "new.head()"
   ]
  },
  {
   "cell_type": "markdown",
   "metadata": {},
   "source": [
    "### Spliting the data into 70(train) and 30(test)"
   ]
  },
  {
   "cell_type": "code",
   "execution_count": 124,
   "metadata": {},
   "outputs": [],
   "source": [
    "X = new.drop('Customer Lifetime Value',axis=1)\n",
    "y = new['Customer Lifetime Value']"
   ]
  },
  {
   "cell_type": "code",
   "execution_count": 125,
   "metadata": {},
   "outputs": [],
   "source": [
    "X_train,X_test,y_train,y_test = train_test_split(X,y,test_size=0.3,random_state=100)"
   ]
  },
  {
   "cell_type": "code",
   "execution_count": 126,
   "metadata": {},
   "outputs": [
    {
     "data": {
      "text/plain": [
       "LinearRegression(copy_X=True, fit_intercept=True, n_jobs=None, normalize=False)"
      ]
     },
     "execution_count": 126,
     "metadata": {},
     "output_type": "execute_result"
    }
   ],
   "source": [
    "lr.fit(X_train,y_train)"
   ]
  },
  {
   "cell_type": "code",
   "execution_count": 127,
   "metadata": {},
   "outputs": [
    {
     "data": {
      "text/plain": [
       "0.6229090552681669"
      ]
     },
     "execution_count": 127,
     "metadata": {},
     "output_type": "execute_result"
    }
   ],
   "source": [
    "lr.score(X_test,y_test)"
   ]
  },
  {
   "cell_type": "code",
   "execution_count": 128,
   "metadata": {},
   "outputs": [
    {
     "data": {
      "text/plain": [
       "0.6389753771298572"
      ]
     },
     "execution_count": 128,
     "metadata": {},
     "output_type": "execute_result"
    }
   ],
   "source": [
    "lr.score(X_train,y_train)"
   ]
  },
  {
   "cell_type": "markdown",
   "metadata": {},
   "source": [
    "So after removing the unnessary feature's our model is giving is an accuracy of about 60%, we would like to take it 70%\n",
    "in the furthur models."
   ]
  },
  {
   "cell_type": "markdown",
   "metadata": {},
   "source": [
    "# Feature Selection-Forward, Backward"
   ]
  },
  {
   "cell_type": "markdown",
   "metadata": {},
   "source": [
    "### Forward"
   ]
  },
  {
   "cell_type": "code",
   "execution_count": 129,
   "metadata": {},
   "outputs": [
    {
     "data": {
      "image/png": "[encoded data removed]",
      "text/plain": [
       "<Figure size 432x288 with 1 Axes>"
      ]
     },
     "metadata": {
      "needs_background": "light"
     },
     "output_type": "display_data"
    }
   ],
   "source": [
    "sfs = SFS(lr, k_features='best', forward=True, floating=False, \n",
    "          scoring='neg_mean_squared_error', cv=20)\n",
    "model = sfs.fit(new.drop('Customer Lifetime Value', axis=1),new['Customer Lifetime Value'])\n",
    "fig = plot_sfs(sfs.get_metric_dict(), kind='std_err')\n",
    "plt.title('Sequential Forward Selection (w. StdErr)')\n",
    "plt.grid()\n",
    "plt.show()"
   ]
  },
  {
   "cell_type": "code",
   "execution_count": 130,
   "metadata": {},
   "outputs": [
    {
     "name": "stdout",
     "output_type": "stream",
     "text": [
      "Selected features: (0, 3, 4, 6, 8, 9, 10, 11, 16, 17)\n"
     ]
    }
   ],
   "source": [
    "print('Selected features:', sfs.k_feature_idx_)"
   ]
  },
  {
   "cell_type": "markdown",
   "metadata": {},
   "source": [
    "### Backward"
   ]
  },
  {
   "cell_type": "code",
   "execution_count": 131,
   "metadata": {},
   "outputs": [
    {
     "data": {
      "image/png": "[encoded data removed]",
      "text/plain": [
       "<Figure size 432x288 with 1 Axes>"
      ]
     },
     "metadata": {
      "needs_background": "light"
     },
     "output_type": "display_data"
    }
   ],
   "source": [
    "sfs = SFS(lr, k_features='best', forward=False, floating=False, \n",
    "          scoring='neg_mean_squared_error', cv=20)\n",
    "model = sfs.fit(new.drop('Customer Lifetime Value', axis=1).values,new['Customer Lifetime Value'])\n",
    "fig = plot_sfs(sfs.get_metric_dict(), kind='std_err')\n",
    "plt.title('Sequential Forward Selection (w. StdErr)')\n",
    "plt.grid()\n",
    "plt.show()"
   ]
  },
  {
   "cell_type": "code",
   "execution_count": 132,
   "metadata": {},
   "outputs": [
    {
     "name": "stdout",
     "output_type": "stream",
     "text": [
      "Selected features: (0, 3, 4, 6, 8, 9, 10, 11, 16, 17)\n"
     ]
    }
   ],
   "source": [
    "print('Selected features:', sfs.k_feature_idx_)"
   ]
  },
  {
   "cell_type": "code",
   "execution_count": 133,
   "metadata": {},
   "outputs": [
    {
     "data": {
      "text/plain": [
       "Index(['Monthly Premium Auto', 'Months Since Last Claim',\n",
       "       'Months Since Policy Inception', 'Number of Open Complaints',\n",
       "       'Total Claim Amount', 'Coverage_Extended', 'Coverage_Premium',\n",
       "       'Marital Status_Married', 'Marital Status_Single',\n",
       "       'Number of Policies_2', 'Number of Policies_3',\n",
       "       'Renew Offer Type_Offer2', 'Renew Offer Type_Offer3',\n",
       "       'Renew Offer Type_Offer4', 'Vehicle Class_Luxury Car',\n",
       "       'Vehicle Class_Luxury SUV', 'Vehicle Class_SUV',\n",
       "       'Vehicle Class_Sports Car', 'Vehicle Class_Two-Door Car'],\n",
       "      dtype='object')"
      ]
     },
     "execution_count": 133,
     "metadata": {},
     "output_type": "execute_result"
    }
   ],
   "source": [
    "X.columns"
   ]
  },
  {
   "cell_type": "markdown",
   "metadata": {},
   "source": [
    "- Suprisingly Both the forward and backward selection gave us the same features to select for our model, so we will be sticking to the same feature's."
   ]
  },
  {
   "cell_type": "code",
   "execution_count": 134,
   "metadata": {},
   "outputs": [],
   "source": [
    "test_X = X[['Monthly Premium Auto','Number of Open Complaints','Total Claim Amount','Coverage_Premium','Marital Status_Single','Number of Policies_2','Number of Policies_3','Renew Offer Type_Offer2','Vehicle Class_SUV','Vehicle Class_Sports Car']]"
   ]
  },
  {
   "cell_type": "code",
   "execution_count": 135,
   "metadata": {},
   "outputs": [],
   "source": [
    "train = []\n",
    "test = []"
   ]
  },
  {
   "cell_type": "code",
   "execution_count": 136,
   "metadata": {},
   "outputs": [],
   "source": [
    "X_train,X_test,y_train,y_test = train_test_split(test_X,y,test_size=0.3,random_state=100)"
   ]
  },
  {
   "cell_type": "code",
   "execution_count": 137,
   "metadata": {},
   "outputs": [
    {
     "data": {
      "text/plain": [
       "LinearRegression(copy_X=True, fit_intercept=True, n_jobs=None, normalize=False)"
      ]
     },
     "execution_count": 137,
     "metadata": {},
     "output_type": "execute_result"
    }
   ],
   "source": [
    "lr.fit(X_train,y_train)"
   ]
  },
  {
   "cell_type": "code",
   "execution_count": 138,
   "metadata": {},
   "outputs": [],
   "source": [
    "test.append(lr.score(X_test,y_test))"
   ]
  },
  {
   "cell_type": "code",
   "execution_count": 139,
   "metadata": {},
   "outputs": [],
   "source": [
    "train.append(lr.score(X_train,y_train))"
   ]
  },
  {
   "cell_type": "markdown",
   "metadata": {},
   "source": [
    "- So we can clearly see that the feature's removed didnt contribute to tell us the differing variance in the data, so it was a good decision to remove those features."
   ]
  },
  {
   "cell_type": "code",
   "execution_count": 140,
   "metadata": {},
   "outputs": [],
   "source": [
    "metrics = [r2_score,mean_absolute_error,mean_absolute_percentage_error,mean_squared_error]"
   ]
  },
  {
   "cell_type": "code",
   "execution_count": 141,
   "metadata": {},
   "outputs": [],
   "source": [
    "y_pred = lr.predict(X_test)"
   ]
  },
  {
   "cell_type": "code",
   "execution_count": 142,
   "metadata": {},
   "outputs": [],
   "source": [
    "r2 = []\n",
    "mae = []\n",
    "mape = []\n",
    "mse = []"
   ]
  },
  {
   "cell_type": "code",
   "execution_count": 143,
   "metadata": {},
   "outputs": [
    {
     "name": "stdout",
     "output_type": "stream",
     "text": [
      "0.6229724358599134\n",
      "2097.8073486328617\n",
      "24.178603379078943\n",
      "18228661.804602843\n"
     ]
    }
   ],
   "source": [
    "for i in metrics:\n",
    "    print(i(y_test,y_pred))\n",
    "    if i == r2_score:\n",
    "        r2.append(i(y_test,y_pred))\n",
    "    elif i == mean_absolute_error:\n",
    "        mae.append(i(y_test,y_pred))\n",
    "    elif i == mean_absolute_percentage_error:\n",
    "        mape.append(i(y_test,y_pred))\n",
    "    else:\n",
    "        mse.append(i(y_test,y_pred))"
   ]
  },
  {
   "cell_type": "markdown",
   "metadata": {},
   "source": [
    "- We will consider the r2_Score and the Mean absolute percentage error as the metric's we are going to use to measure the model."
   ]
  },
  {
   "cell_type": "markdown",
   "metadata": {},
   "source": [
    "### Finding the best sample by random state for each model."
   ]
  },
  {
   "cell_type": "code",
   "execution_count": 144,
   "metadata": {},
   "outputs": [],
   "source": [
    "algo = [abr,gbr,dt,et,etr,br,rfr]"
   ]
  },
  {
   "cell_type": "code",
   "execution_count": 145,
   "metadata": {},
   "outputs": [
    {
     "name": "stdout",
     "output_type": "stream",
     "text": [
      "New ModelAdaBoostRegressor(base_estimator=None, learning_rate=1.0, loss='linear',\n",
      "                  n_estimators=50, random_state=None)\n",
      "1 0.6093129555087136 0.5182391895765617\n",
      "2 0.5898008129037535 0.592836231998308\n",
      "3 0.5944743555794115 0.6224100805817573\n",
      "5 0.6205673716491297 0.6231222128484367\n",
      "22 0.6340480725593709 0.6307331771664622\n",
      "New ModelGradientBoostingRegressor(alpha=0.9, criterion='friedman_mse', init=None,\n",
      "                          learning_rate=0.1, loss='ls', max_depth=3,\n",
      "                          max_features=None, max_leaf_nodes=None,\n",
      "                          min_impurity_decrease=0.0, min_impurity_split=None,\n",
      "                          min_samples_leaf=1, min_samples_split=2,\n",
      "                          min_weight_fraction_leaf=0.0, n_estimators=100,\n",
      "                          n_iter_no_change=None, presort='auto',\n",
      "                          random_state=None, subsample=1.0, tol=0.0001,\n",
      "                          validation_fraction=0.1, verbose=0, warm_start=False)\n",
      "1 0.7547309391180869 0.656470241165301\n",
      "2 0.7397067584988828 0.6896264545947921\n",
      "4 0.737612916499981 0.6964743786004554\n",
      "35 0.7353567644257681 0.7031939089351831\n",
      "181 0.7371078414289501 0.7035706417538246\n",
      "New ModelDecisionTreeRegressor(criterion='mse', max_depth=None, max_features=None,\n",
      "                      max_leaf_nodes=None, min_impurity_decrease=0.0,\n",
      "                      min_impurity_split=None, min_samples_leaf=1,\n",
      "                      min_samples_split=2, min_weight_fraction_leaf=0.0,\n",
      "                      presort=False, random_state=None, splitter='best')\n",
      "1 1.0 0.4215180928804285\n",
      "2 1.0 0.462012404576029\n",
      "3 1.0 0.4641153942559123\n",
      "9 1.0 0.4648012699270424\n",
      "11 1.0 0.482972405323454\n",
      "16 1.0 0.5084740982814816\n",
      "79 1.0 0.5133313969350988\n",
      "126 1.0 0.5322892133742878\n",
      "New ModelExtraTreeRegressor(criterion='mse', max_depth=None, max_features='auto',\n",
      "                   max_leaf_nodes=None, min_impurity_decrease=0.0,\n",
      "                   min_impurity_split=None, min_samples_leaf=1,\n",
      "                   min_samples_split=2, min_weight_fraction_leaf=0.0,\n",
      "                   random_state=None, splitter='random')\n",
      "1 1.0 0.3478224003259016\n",
      "2 1.0 0.5034447319030316\n",
      "35 1.0 0.5044638829695307\n",
      "42 1.0 0.5126595914450993\n",
      "83 1.0 0.5253666317418957\n",
      "239 1.0 0.5305124011318945\n",
      "New ModelExtraTreesRegressor(bootstrap=False, criterion='mse', max_depth=None,\n",
      "                    max_features='auto', max_leaf_nodes=None,\n",
      "                    min_impurity_decrease=0.0, min_impurity_split=None,\n",
      "                    min_samples_leaf=1, min_samples_split=2,\n",
      "                    min_weight_fraction_leaf=0.0, n_estimators='warn',\n",
      "                    n_jobs=None, oob_score=False, random_state=None, verbose=0,\n",
      "                    warm_start=False)\n",
      "1 1.0 0.6250698384802558\n",
      "2 1.0 0.6529385123461503\n",
      "5 1.0 0.66255912877127\n",
      "11 1.0 0.6872309834591782\n",
      "35 1.0 0.7070723180857825\n",
      "New ModelBaggingRegressor(base_estimator=None, bootstrap=True, bootstrap_features=False,\n",
      "                 max_features=1.0, max_samples=1.0, n_estimators=10,\n",
      "                 n_jobs=None, oob_score=False, random_state=None, verbose=0,\n",
      "                 warm_start=False)\n",
      "1 0.9452032227255845 0.6634493714758457\n",
      "2 0.9404673297342893 0.6996982183715961\n",
      "35 0.9357424199127449 0.7050582024143799\n",
      "292 0.9424732311477637 0.7098328749334052\n",
      "294 0.9345928598326995 0.7117145100682536\n",
      "New ModelRandomForestRegressor(bootstrap=True, criterion='mse', max_depth=None,\n",
      "                      max_features='auto', max_leaf_nodes=None,\n",
      "                      min_impurity_decrease=0.0, min_impurity_split=None,\n",
      "                      min_samples_leaf=1, min_samples_split=2,\n",
      "                      min_weight_fraction_leaf=0.0, n_estimators='warn',\n",
      "                      n_jobs=None, oob_score=False, random_state=None,\n",
      "                      verbose=0, warm_start=False)\n",
      "1 0.9433505998533896 0.6478843256720052\n",
      "2 0.9336358310968406 0.6978800206264707\n",
      "35 0.941813695092531 0.7012551443423202\n",
      "218 0.9394252340507196 0.7105565448874669\n"
     ]
    }
   ],
   "source": [
    "for i in algo:\n",
    "    temp = 0\n",
    "    print(f\"New Model{i}\")\n",
    "    for j in range(1,300,1):\n",
    "        NXT,NXt,NYT,NYt = train_test_split(X,y,test_size=0.3,random_state=j)\n",
    "        i.fit(NXT,NYT)\n",
    "        test_score = i.score(NXt,NYt)\n",
    "        train_score = i.score(NXT,NYT)\n",
    "        if test_score>temp:\n",
    "            temp = test_score\n",
    "            print(j,train_score,temp)"
   ]
  },
  {
   "cell_type": "markdown",
   "metadata": {},
   "source": [
    "We can see the best sample for each model, and we can also see which model is a good fit and which model is overfitting/underfitting model.\n",
    "- AdaBoost is good model, but we will have to check for the metric's\n",
    "- Gradient Boosting is the best model comparitively, again we will check for the metric's\n",
    "- DecisionTree and the Extra Tree regressor model's are not working better for this data set , as the model is completing over fitting, we will check their metric's as well, but we wont use it for modelling.\n",
    "- Bagging and random forest regressor model's are again overfitting model, which are not good model's are this data set, but again we will check the metrics."
   ]
  },
  {
   "cell_type": "markdown",
   "metadata": {},
   "source": [
    "# Decision Tree Regressor."
   ]
  },
  {
   "cell_type": "code",
   "execution_count": 146,
   "metadata": {},
   "outputs": [],
   "source": [
    "X_train,X_test,y_train,y_test = train_test_split(X,y,test_size=0.3,random_state=159)"
   ]
  },
  {
   "cell_type": "code",
   "execution_count": 147,
   "metadata": {},
   "outputs": [
    {
     "data": {
      "text/plain": [
       "DecisionTreeRegressor(criterion='mse', max_depth=None, max_features=None,\n",
       "                      max_leaf_nodes=None, min_impurity_decrease=0.0,\n",
       "                      min_impurity_split=None, min_samples_leaf=1,\n",
       "                      min_samples_split=2, min_weight_fraction_leaf=0.0,\n",
       "                      presort=False, random_state=None, splitter='best')"
      ]
     },
     "execution_count": 147,
     "metadata": {},
     "output_type": "execute_result"
    }
   ],
   "source": [
    "dt.fit(X_train,y_train)"
   ]
  },
  {
   "cell_type": "code",
   "execution_count": 148,
   "metadata": {},
   "outputs": [],
   "source": [
    "y_pred_dt = dt.predict(X_test)"
   ]
  },
  {
   "cell_type": "code",
   "execution_count": 149,
   "metadata": {},
   "outputs": [
    {
     "name": "stdout",
     "output_type": "stream",
     "text": [
      "0.5417460590249159\n",
      "1580.0010314892374\n",
      "12.472960615263347\n",
      "22604678.384751245\n"
     ]
    }
   ],
   "source": [
    "for i in metrics:\n",
    "    print(i(y_test,y_pred_dt))\n",
    "    if i == r2_score:\n",
    "        r2.append(i(y_test,y_pred_dt))\n",
    "    elif i == mean_absolute_error:\n",
    "        mae.append(i(y_test,y_pred_dt))\n",
    "    elif i == mean_absolute_percentage_error:\n",
    "        mape.append(i(y_test,y_pred_dt))\n",
    "    else:\n",
    "        mse.append(i(y_test,y_pred_dt))"
   ]
  },
  {
   "cell_type": "code",
   "execution_count": 150,
   "metadata": {},
   "outputs": [],
   "source": [
    "train.append(dt.score(X_train,y_train))\n",
    "test.append(dt.score(X_test,y_test))"
   ]
  },
  {
   "cell_type": "markdown",
   "metadata": {},
   "source": [
    "### Extra Tree Regressor."
   ]
  },
  {
   "cell_type": "code",
   "execution_count": 151,
   "metadata": {},
   "outputs": [],
   "source": [
    "X_train,X_test,y_train,y_test = train_test_split(X,y,test_size=0.3,random_state=69)"
   ]
  },
  {
   "cell_type": "code",
   "execution_count": 152,
   "metadata": {},
   "outputs": [
    {
     "data": {
      "text/plain": [
       "ExtraTreeRegressor(criterion='mse', max_depth=None, max_features='auto',\n",
       "                   max_leaf_nodes=None, min_impurity_decrease=0.0,\n",
       "                   min_impurity_split=None, min_samples_leaf=1,\n",
       "                   min_samples_split=2, min_weight_fraction_leaf=0.0,\n",
       "                   random_state=None, splitter='random')"
      ]
     },
     "execution_count": 152,
     "metadata": {},
     "output_type": "execute_result"
    }
   ],
   "source": [
    "et.fit(X_train,y_train)"
   ]
  },
  {
   "cell_type": "code",
   "execution_count": 153,
   "metadata": {},
   "outputs": [],
   "source": [
    "y_pred_et = et.predict(X_test)"
   ]
  },
  {
   "cell_type": "code",
   "execution_count": 154,
   "metadata": {},
   "outputs": [
    {
     "name": "stdout",
     "output_type": "stream",
     "text": [
      "0.3887638505349498\n",
      "1849.4696063637357\n",
      "13.824433433249977\n",
      "29242172.87871032\n"
     ]
    }
   ],
   "source": [
    "for i in metrics:\n",
    "    print(i(y_test,y_pred_et))\n",
    "    if i == r2_score:\n",
    "        r2.append(i(y_test,y_pred_et))\n",
    "    elif i == mean_absolute_error:\n",
    "        mae.append(i(y_test,y_pred_et))\n",
    "    elif i == mean_absolute_percentage_error:\n",
    "        mape.append(i(y_test,y_pred_et))\n",
    "    else:\n",
    "        mse.append(i(y_test,y_pred_et))"
   ]
  },
  {
   "cell_type": "code",
   "execution_count": 155,
   "metadata": {},
   "outputs": [],
   "source": [
    "train.append(et.score(X_train,y_train))\n",
    "test.append(et.score(X_test,y_test))"
   ]
  },
  {
   "cell_type": "code",
   "execution_count": 156,
   "metadata": {},
   "outputs": [
    {
     "data": {
      "text/html": [
       "<div>\n",
       "<style scoped>\n",
       "    .dataframe tbody tr th:only-of-type {\n",
       "        vertical-align: middle;\n",
       "    }\n",
       "\n",
       "    .dataframe tbody tr th {\n",
       "        vertical-align: top;\n",
       "    }\n",
       "\n",
       "    .dataframe thead th {\n",
       "        text-align: right;\n",
       "    }\n",
       "</style>\n",
       "<table border=\"1\" class=\"dataframe\">\n",
       "  <thead>\n",
       "    <tr style=\"text-align: right;\">\n",
       "      <th></th>\n",
       "      <th>Model</th>\n",
       "      <th>R2_Score</th>\n",
       "      <th>MAE</th>\n",
       "      <th>MAPE</th>\n",
       "      <th>MSE</th>\n",
       "    </tr>\n",
       "  </thead>\n",
       "  <tbody>\n",
       "    <tr>\n",
       "      <th>0</th>\n",
       "      <td>Linear Regression</td>\n",
       "      <td>0.622972</td>\n",
       "      <td>2097.807349</td>\n",
       "      <td>24.178603</td>\n",
       "      <td>1.822866e+07</td>\n",
       "    </tr>\n",
       "    <tr>\n",
       "      <th>1</th>\n",
       "      <td>Decision Tree</td>\n",
       "      <td>0.541746</td>\n",
       "      <td>1580.001031</td>\n",
       "      <td>12.472961</td>\n",
       "      <td>2.260468e+07</td>\n",
       "    </tr>\n",
       "    <tr>\n",
       "      <th>2</th>\n",
       "      <td>Extra Tree</td>\n",
       "      <td>0.388764</td>\n",
       "      <td>1849.469606</td>\n",
       "      <td>13.824433</td>\n",
       "      <td>2.924217e+07</td>\n",
       "    </tr>\n",
       "  </tbody>\n",
       "</table>\n",
       "</div>"
      ],
      "text/plain": [
       "               Model  R2_Score          MAE       MAPE           MSE\n",
       "0  Linear Regression  0.622972  2097.807349  24.178603  1.822866e+07\n",
       "1      Decision Tree  0.541746  1580.001031  12.472961  2.260468e+07\n",
       "2         Extra Tree  0.388764  1849.469606  13.824433  2.924217e+07"
      ]
     },
     "execution_count": 156,
     "metadata": {},
     "output_type": "execute_result"
    }
   ],
   "source": [
    "pd.DataFrame({'Model':['Linear Regression','Decision Tree','Extra Tree'],'R2_Score':r2,'MAE':mae,'MAPE':mape,'MSE':mse})"
   ]
  },
  {
   "cell_type": "markdown",
   "metadata": {},
   "source": [
    "- We can clearly see that the Linear Regression model is having the best r2_Score, and decision tree and extra tree regressor have no better accuracy that so we will have to build our model using ensemlle technique's, boosting and bagging."
   ]
  },
  {
   "cell_type": "markdown",
   "metadata": {},
   "source": [
    "# ENSEMBLE METHODS."
   ]
  },
  {
   "cell_type": "code",
   "execution_count": 157,
   "metadata": {},
   "outputs": [],
   "source": [
    "from sklearn.ensemble import AdaBoostRegressor\n",
    "from sklearn.ensemble import BaggingRegressor\n",
    "from sklearn.ensemble import ExtraTreesRegressor\n",
    "from sklearn.ensemble import GradientBoostingRegressor\n",
    "from sklearn.ensemble import RandomForestRegressor"
   ]
  },
  {
   "cell_type": "markdown",
   "metadata": {},
   "source": [
    "### AdaBoost."
   ]
  },
  {
   "cell_type": "code",
   "execution_count": 158,
   "metadata": {},
   "outputs": [],
   "source": [
    "X_train,X_test,y_train,y_test = train_test_split(X,y,test_size=0.3,random_state=83)"
   ]
  },
  {
   "cell_type": "code",
   "execution_count": 159,
   "metadata": {},
   "outputs": [
    {
     "data": {
      "text/plain": [
       "AdaBoostRegressor(base_estimator=None, learning_rate=1.0, loss='linear',\n",
       "                  n_estimators=50, random_state=None)"
      ]
     },
     "execution_count": 159,
     "metadata": {},
     "output_type": "execute_result"
    }
   ],
   "source": [
    "abr.fit(X_train,y_train)"
   ]
  },
  {
   "cell_type": "code",
   "execution_count": 160,
   "metadata": {},
   "outputs": [],
   "source": [
    "y_pred_abr = abr.predict(X_test)"
   ]
  },
  {
   "cell_type": "code",
   "execution_count": 161,
   "metadata": {},
   "outputs": [
    {
     "name": "stdout",
     "output_type": "stream",
     "text": [
      "0.6391125907680493\n",
      "2670.6527698708605\n",
      "30.051816782957285\n",
      "19192682.84239336\n"
     ]
    }
   ],
   "source": [
    "for i in metrics:\n",
    "    print(i(y_test,y_pred_abr))\n",
    "    if i == r2_score:\n",
    "        r2.append(i(y_test,y_pred_abr))\n",
    "    elif i == mean_absolute_error:\n",
    "        mae.append(i(y_test,y_pred_abr))\n",
    "    elif i == mean_absolute_percentage_error:\n",
    "        mape.append(i(y_test,y_pred_abr))\n",
    "    else:\n",
    "        mse.append(i(y_test,y_pred_abr))"
   ]
  },
  {
   "cell_type": "code",
   "execution_count": 162,
   "metadata": {},
   "outputs": [],
   "source": [
    "train.append(abr.score(X_train,y_train))\n",
    "test.append(abr.score(X_test,y_test))"
   ]
  },
  {
   "cell_type": "markdown",
   "metadata": {},
   "source": [
    "### Bagging."
   ]
  },
  {
   "cell_type": "code",
   "execution_count": 163,
   "metadata": {},
   "outputs": [
    {
     "name": "stdout",
     "output_type": "stream",
     "text": [
      "0.7066708245602572\n",
      "1506.222594875374\n",
      "11.433167458337435\n",
      "14929827.229227444\n"
     ]
    }
   ],
   "source": [
    "X_train,X_test,y_train,y_test = train_test_split(X,y,test_size=0.3,random_state=292)\n",
    "br.fit(X_train,y_train)\n",
    "y_pred_br = br.predict(X_test)\n",
    "for i in metrics:\n",
    "    print(i(y_test,y_pred_br))\n",
    "    if i == r2_score:\n",
    "        r2.append(i(y_test,y_pred_br))\n",
    "    elif i == mean_absolute_error:\n",
    "        mae.append(i(y_test,y_pred_br))\n",
    "    elif i == mean_absolute_percentage_error:\n",
    "        mape.append(i(y_test,y_pred_br))\n",
    "    else:\n",
    "        mse.append(i(y_test,y_pred_br))"
   ]
  },
  {
   "cell_type": "code",
   "execution_count": 164,
   "metadata": {},
   "outputs": [],
   "source": [
    "train.append(br.score(X_train,y_train))\n",
    "test.append(br.score(X_test,y_test))"
   ]
  },
  {
   "cell_type": "markdown",
   "metadata": {},
   "source": [
    "### Extra Tree's."
   ]
  },
  {
   "cell_type": "code",
   "execution_count": 165,
   "metadata": {},
   "outputs": [
    {
     "name": "stdout",
     "output_type": "stream",
     "text": [
      "0.6663104572934223\n",
      "1517.028615723568\n",
      "11.608643826777248\n",
      "15964054.652499694\n"
     ]
    }
   ],
   "source": [
    "X_train,X_test,y_train,y_test = train_test_split(X,y,test_size=0.3,random_state=69)\n",
    "etr.fit(X_train,y_train)\n",
    "y_pred_etr = etr.predict(X_test)\n",
    "for i in metrics:\n",
    "    print(i(y_test,y_pred_etr))\n",
    "    if i == r2_score:\n",
    "        r2.append(i(y_test,y_pred_etr))\n",
    "    elif i == mean_absolute_error:\n",
    "        mae.append(i(y_test,y_pred_etr))\n",
    "    elif i == mean_absolute_percentage_error:\n",
    "        mape.append(i(y_test,y_pred_etr))\n",
    "    else:\n",
    "        mse.append(i(y_test,y_pred_etr))"
   ]
  },
  {
   "cell_type": "code",
   "execution_count": 166,
   "metadata": {},
   "outputs": [],
   "source": [
    "train.append(etr.score(X_train,y_train))\n",
    "test.append(etr.score(X_test,y_test))"
   ]
  },
  {
   "cell_type": "markdown",
   "metadata": {},
   "source": [
    "### Gradient Boosting."
   ]
  },
  {
   "cell_type": "code",
   "execution_count": 167,
   "metadata": {},
   "outputs": [
    {
     "name": "stdout",
     "output_type": "stream",
     "text": [
      "0.7026188668003913\n",
      "1721.9010440926552\n",
      "13.864586236235924\n",
      "14800816.168660069\n"
     ]
    }
   ],
   "source": [
    "X_train,X_test,y_train,y_test = train_test_split(X,y,test_size=0.3,random_state=181)\n",
    "gbr.fit(X_train,y_train)\n",
    "y_pred_gbr = gbr.predict(X_test)\n",
    "for i in metrics:\n",
    "    print(i(y_test,y_pred_gbr))\n",
    "    if i == r2_score:\n",
    "        r2.append(i(y_test,y_pred_gbr))\n",
    "    elif i == mean_absolute_error:\n",
    "        mae.append(i(y_test,y_pred_gbr))\n",
    "    elif i == mean_absolute_percentage_error:\n",
    "        mape.append(i(y_test,y_pred_gbr))\n",
    "    else:\n",
    "        mse.append(i(y_test,y_pred_gbr))"
   ]
  },
  {
   "cell_type": "code",
   "execution_count": 168,
   "metadata": {},
   "outputs": [],
   "source": [
    "train.append(gbr.score(X_train,y_train))\n",
    "test.append(gbr.score(X_test,y_test))"
   ]
  },
  {
   "cell_type": "markdown",
   "metadata": {},
   "source": [
    "### Random Forest."
   ]
  },
  {
   "cell_type": "code",
   "execution_count": 169,
   "metadata": {},
   "outputs": [
    {
     "name": "stdout",
     "output_type": "stream",
     "text": [
      "0.7078020732066814\n",
      "1465.5887351413355\n",
      "11.405291379044753\n",
      "13958988.517048497\n"
     ]
    }
   ],
   "source": [
    "X_train,X_test,y_train,y_test = train_test_split(X,y,test_size=0.3,random_state=35)\n",
    "rfr.fit(X_train,y_train)\n",
    "y_pred_rfr = rfr.predict(X_test)\n",
    "for i in metrics:\n",
    "    print(i(y_test,y_pred_rfr))\n",
    "    if i == r2_score:\n",
    "        r2.append(i(y_test,y_pred_rfr))\n",
    "    elif i == mean_absolute_error:\n",
    "        mae.append(i(y_test,y_pred_rfr))\n",
    "    elif i == mean_absolute_percentage_error:\n",
    "        mape.append(i(y_test,y_pred_rfr))\n",
    "    else:\n",
    "        mse.append(i(y_test,y_pred_rfr))"
   ]
  },
  {
   "cell_type": "code",
   "execution_count": 170,
   "metadata": {},
   "outputs": [],
   "source": [
    "train.append(rfr.score(X_train,y_train))\n",
    "test.append(rfr.score(X_test,y_test))"
   ]
  },
  {
   "cell_type": "markdown",
   "metadata": {},
   "source": [
    "- Of all the model's we are inclined to choose gradient boosting as the next model, and furthur tweak the hyper parameter's of the model and also put this boosting model into bagging regressor and check for the model accuracy."
   ]
  },
  {
   "cell_type": "markdown",
   "metadata": {},
   "source": [
    "# NEXT MODEL:"
   ]
  },
  {
   "cell_type": "code",
   "execution_count": 171,
   "metadata": {},
   "outputs": [],
   "source": [
    "hyper_params_gbr = {'loss':['ls','lad','huber'],'learning_rate':[0.1,0.01,1],'n_estimators':[100,150]}"
   ]
  },
  {
   "cell_type": "code",
   "execution_count": 172,
   "metadata": {},
   "outputs": [],
   "source": [
    "gbr2 = GradientBoostingRegressor()"
   ]
  },
  {
   "cell_type": "code",
   "execution_count": 173,
   "metadata": {},
   "outputs": [],
   "source": [
    "model = GridSearchCV(gbr2,param_grid=hyper_params_gbr)"
   ]
  },
  {
   "cell_type": "code",
   "execution_count": 174,
   "metadata": {},
   "outputs": [],
   "source": [
    "X_train,X_test,y_train,y_test = train_test_split(X,y,test_size=0.3,random_state=181)"
   ]
  },
  {
   "cell_type": "code",
   "execution_count": 175,
   "metadata": {},
   "outputs": [
    {
     "data": {
      "text/plain": [
       "GridSearchCV(cv='warn', error_score='raise-deprecating',\n",
       "             estimator=GradientBoostingRegressor(alpha=0.9,\n",
       "                                                 criterion='friedman_mse',\n",
       "                                                 init=None, learning_rate=0.1,\n",
       "                                                 loss='ls', max_depth=3,\n",
       "                                                 max_features=None,\n",
       "                                                 max_leaf_nodes=None,\n",
       "                                                 min_impurity_decrease=0.0,\n",
       "                                                 min_impurity_split=None,\n",
       "                                                 min_samples_leaf=1,\n",
       "                                                 min_samples_split=2,\n",
       "                                                 min_weight_fraction_leaf=0.0,\n",
       "                                                 n_estimators=100,\n",
       "                                                 n_iter_no_change=None,\n",
       "                                                 presort='auto',\n",
       "                                                 random_state=None,\n",
       "                                                 subsample=1.0, tol=0.0001,\n",
       "                                                 validation_fraction=0.1,\n",
       "                                                 verbose=0, warm_start=False),\n",
       "             iid='warn', n_jobs=None,\n",
       "             param_grid={'learning_rate': [0.1, 0.01, 1],\n",
       "                         'loss': ['ls', 'lad', 'huber'],\n",
       "                         'n_estimators': [100, 150]},\n",
       "             pre_dispatch='2*n_jobs', refit=True, return_train_score=False,\n",
       "             scoring=None, verbose=0)"
      ]
     },
     "execution_count": 175,
     "metadata": {},
     "output_type": "execute_result"
    }
   ],
   "source": [
    "model.fit(X_train,y_train)"
   ]
  },
  {
   "cell_type": "code",
   "execution_count": 176,
   "metadata": {},
   "outputs": [
    {
     "data": {
      "text/plain": [
       "0.7032641281579299"
      ]
     },
     "execution_count": 176,
     "metadata": {},
     "output_type": "execute_result"
    }
   ],
   "source": [
    "model.score(X_test,y_test)"
   ]
  },
  {
   "cell_type": "code",
   "execution_count": 177,
   "metadata": {},
   "outputs": [
    {
     "data": {
      "text/plain": [
       "0.7371078414289501"
      ]
     },
     "execution_count": 177,
     "metadata": {},
     "output_type": "execute_result"
    }
   ],
   "source": [
    "model.score(X_train,y_train)"
   ]
  },
  {
   "cell_type": "code",
   "execution_count": 178,
   "metadata": {},
   "outputs": [
    {
     "data": {
      "text/plain": [
       "{'learning_rate': 0.1, 'loss': 'ls', 'n_estimators': 100}"
      ]
     },
     "execution_count": 178,
     "metadata": {},
     "output_type": "execute_result"
    }
   ],
   "source": [
    "model.best_params_"
   ]
  },
  {
   "cell_type": "markdown",
   "metadata": {},
   "source": [
    "- These are the default parameter's of the model so no hyper parameter tuning for this model is required, let us try and put this model into the bagging regressor."
   ]
  },
  {
   "cell_type": "markdown",
   "metadata": {},
   "source": [
    "# Final Model(Boosting+bagging)."
   ]
  },
  {
   "cell_type": "code",
   "execution_count": 179,
   "metadata": {},
   "outputs": [],
   "source": [
    "gbr2 = GradientBoostingRegressor()"
   ]
  },
  {
   "cell_type": "code",
   "execution_count": 180,
   "metadata": {},
   "outputs": [],
   "source": [
    "br2 = BaggingRegressor(gbr2)"
   ]
  },
  {
   "cell_type": "markdown",
   "metadata": {},
   "source": [
    "### Finding the best sample."
   ]
  },
  {
   "cell_type": "code",
   "execution_count": 181,
   "metadata": {},
   "outputs": [
    {
     "name": "stdout",
     "output_type": "stream",
     "text": [
      "1 0.7486927707101882 0.663747959115122\n",
      "2 0.7391575564451331 0.6948900902081794\n",
      "23 0.739668742126949 0.6967422090883046\n",
      "35 0.7295652461449288 0.709996912031233\n"
     ]
    }
   ],
   "source": [
    "temp = 0\n",
    "for j in range(1,300,1):\n",
    "    NXT,NXt,NYT,NYt = train_test_split(X,y,test_size=0.3,random_state=j)\n",
    "    br2.fit(NXT,NYT)\n",
    "    test_score = br2.score(NXt,NYt)\n",
    "    train_score = br2.score(NXT,NYT)\n",
    "    if test_score>temp:\n",
    "        temp = test_score\n",
    "        print(j,train_score,temp)"
   ]
  },
  {
   "cell_type": "code",
   "execution_count": 182,
   "metadata": {},
   "outputs": [
    {
     "name": "stdout",
     "output_type": "stream",
     "text": [
      "0.7075709467430988\n",
      "1636.8319200181493\n",
      "13.573184425795901\n",
      "12607413.551592208\n"
     ]
    }
   ],
   "source": [
    "X_train,X_test,y_train,y_test = train_test_split(X,y,test_size=0.3,random_state=87)\n",
    "br2.fit(X_train,y_train)\n",
    "y_pred_br2 = br2.predict(X_test)\n",
    "for i in metrics:\n",
    "    print(i(y_test,y_pred_br2))\n",
    "    if i == r2_score:\n",
    "        r2.append(i(y_test,y_pred_br2))\n",
    "    elif i == mean_absolute_error:\n",
    "        mae.append(i(y_test,y_pred_br2))\n",
    "    elif i == mean_absolute_percentage_error:\n",
    "        mape.append(i(y_test,y_pred_br2))\n",
    "    else:\n",
    "        mse.append(i(y_test,y_pred_br2))"
   ]
  },
  {
   "cell_type": "code",
   "execution_count": 183,
   "metadata": {},
   "outputs": [],
   "source": [
    "train.append(br2.score(X_train,y_train))\n",
    "test.append(br2.score(X_test,y_test))"
   ]
  },
  {
   "cell_type": "markdown",
   "metadata": {},
   "source": [
    "# Using KFold Validation:"
   ]
  },
  {
   "cell_type": "code",
   "execution_count": 184,
   "metadata": {},
   "outputs": [],
   "source": [
    "test_scores = []\n",
    "train_scores = []\n",
    "cv = KFold(n_splits=10,random_state=42, shuffle=False)\n",
    "for train_index,test_index in cv.split(X):\n",
    "    X_train, X_test, y_train, y_test = X.iloc[train_index], X.iloc[test_index], y.iloc[train_index], y.iloc[test_index]\n",
    "    br2.fit(X_train,y_train)\n",
    "    test_scores.append(br.score(X_test, y_test))\n",
    "    train_scores.append(br.score(X_train, y_train))"
   ]
  },
  {
   "cell_type": "code",
   "execution_count": 185,
   "metadata": {},
   "outputs": [
    {
     "data": {
      "text/plain": [
       "0.8634823944862164"
      ]
     },
     "execution_count": 185,
     "metadata": {},
     "output_type": "execute_result"
    }
   ],
   "source": [
    "np.mean(train_scores)"
   ]
  },
  {
   "cell_type": "code",
   "execution_count": 186,
   "metadata": {},
   "outputs": [
    {
     "data": {
      "text/plain": [
       "0.8633536456778751"
      ]
     },
     "execution_count": 186,
     "metadata": {},
     "output_type": "execute_result"
    }
   ],
   "source": [
    "np.mean(test_scores)"
   ]
  },
  {
   "cell_type": "markdown",
   "metadata": {},
   "source": [
    "**We can see that after using KFold validation we got our average training accuracy to be 86.45 and average testing accuracy to be 86.30, OUR final model is bagging regressor with base estimator gradient boosting regressor.**"
   ]
  },
  {
   "cell_type": "code",
   "execution_count": 187,
   "metadata": {},
   "outputs": [],
   "source": [
    "ALL_SCORES = pd.DataFrame({'Model':['Linear Regression','Decision Tree','Extra Tree','AdaBoost','Bagging','Extra Trees','GradientBoosting','Random Forest','Final_Model'],'Training_Score':train,'Testing_Score':test,'R2_Score':r2,'MAE':mae,'MAPE':mape,'MSE':mse})"
   ]
  },
  {
   "cell_type": "code",
   "execution_count": 188,
   "metadata": {},
   "outputs": [
    {
     "data": {
      "text/html": [
       "<div>\n",
       "<style scoped>\n",
       "    .dataframe tbody tr th:only-of-type {\n",
       "        vertical-align: middle;\n",
       "    }\n",
       "\n",
       "    .dataframe tbody tr th {\n",
       "        vertical-align: top;\n",
       "    }\n",
       "\n",
       "    .dataframe thead th {\n",
       "        text-align: right;\n",
       "    }\n",
       "</style>\n",
       "<table border=\"1\" class=\"dataframe\">\n",
       "  <thead>\n",
       "    <tr style=\"text-align: right;\">\n",
       "      <th></th>\n",
       "      <th>Model</th>\n",
       "      <th>Training_Score</th>\n",
       "      <th>Testing_Score</th>\n",
       "      <th>R2_Score</th>\n",
       "      <th>MAE</th>\n",
       "      <th>MAPE</th>\n",
       "      <th>MSE</th>\n",
       "    </tr>\n",
       "  </thead>\n",
       "  <tbody>\n",
       "    <tr>\n",
       "      <th>0</th>\n",
       "      <td>Linear Regression</td>\n",
       "      <td>0.638623</td>\n",
       "      <td>0.622972</td>\n",
       "      <td>0.622972</td>\n",
       "      <td>2097.807349</td>\n",
       "      <td>24.178603</td>\n",
       "      <td>1.822866e+07</td>\n",
       "    </tr>\n",
       "    <tr>\n",
       "      <th>1</th>\n",
       "      <td>Decision Tree</td>\n",
       "      <td>1.000000</td>\n",
       "      <td>0.541746</td>\n",
       "      <td>0.541746</td>\n",
       "      <td>1580.001031</td>\n",
       "      <td>12.472961</td>\n",
       "      <td>2.260468e+07</td>\n",
       "    </tr>\n",
       "    <tr>\n",
       "      <th>2</th>\n",
       "      <td>Extra Tree</td>\n",
       "      <td>1.000000</td>\n",
       "      <td>0.388764</td>\n",
       "      <td>0.388764</td>\n",
       "      <td>1849.469606</td>\n",
       "      <td>13.824433</td>\n",
       "      <td>2.924217e+07</td>\n",
       "    </tr>\n",
       "    <tr>\n",
       "      <th>3</th>\n",
       "      <td>AdaBoost</td>\n",
       "      <td>0.604408</td>\n",
       "      <td>0.639113</td>\n",
       "      <td>0.639113</td>\n",
       "      <td>2670.652770</td>\n",
       "      <td>30.051817</td>\n",
       "      <td>1.919268e+07</td>\n",
       "    </tr>\n",
       "    <tr>\n",
       "      <th>4</th>\n",
       "      <td>Bagging</td>\n",
       "      <td>0.938474</td>\n",
       "      <td>0.706671</td>\n",
       "      <td>0.706671</td>\n",
       "      <td>1506.222595</td>\n",
       "      <td>11.433167</td>\n",
       "      <td>1.492983e+07</td>\n",
       "    </tr>\n",
       "    <tr>\n",
       "      <th>5</th>\n",
       "      <td>Extra Trees</td>\n",
       "      <td>1.000000</td>\n",
       "      <td>0.666310</td>\n",
       "      <td>0.666310</td>\n",
       "      <td>1517.028616</td>\n",
       "      <td>11.608644</td>\n",
       "      <td>1.596405e+07</td>\n",
       "    </tr>\n",
       "    <tr>\n",
       "      <th>6</th>\n",
       "      <td>GradientBoosting</td>\n",
       "      <td>0.737108</td>\n",
       "      <td>0.702619</td>\n",
       "      <td>0.702619</td>\n",
       "      <td>1721.901044</td>\n",
       "      <td>13.864586</td>\n",
       "      <td>1.480082e+07</td>\n",
       "    </tr>\n",
       "    <tr>\n",
       "      <th>7</th>\n",
       "      <td>Random Forest</td>\n",
       "      <td>0.935607</td>\n",
       "      <td>0.707802</td>\n",
       "      <td>0.707802</td>\n",
       "      <td>1465.588735</td>\n",
       "      <td>11.405291</td>\n",
       "      <td>1.395899e+07</td>\n",
       "    </tr>\n",
       "    <tr>\n",
       "      <th>8</th>\n",
       "      <td>Final_Model</td>\n",
       "      <td>0.735469</td>\n",
       "      <td>0.707571</td>\n",
       "      <td>0.707571</td>\n",
       "      <td>1636.831920</td>\n",
       "      <td>13.573184</td>\n",
       "      <td>1.260741e+07</td>\n",
       "    </tr>\n",
       "  </tbody>\n",
       "</table>\n",
       "</div>"
      ],
      "text/plain": [
       "               Model  Training_Score  Testing_Score  R2_Score          MAE  \\\n",
       "0  Linear Regression        0.638623       0.622972  0.622972  2097.807349   \n",
       "1      Decision Tree        1.000000       0.541746  0.541746  1580.001031   \n",
       "2         Extra Tree        1.000000       0.388764  0.388764  1849.469606   \n",
       "3           AdaBoost        0.604408       0.639113  0.639113  2670.652770   \n",
       "4            Bagging        0.938474       0.706671  0.706671  1506.222595   \n",
       "5        Extra Trees        1.000000       0.666310  0.666310  1517.028616   \n",
       "6   GradientBoosting        0.737108       0.702619  0.702619  1721.901044   \n",
       "7      Random Forest        0.935607       0.707802  0.707802  1465.588735   \n",
       "8        Final_Model        0.735469       0.707571  0.707571  1636.831920   \n",
       "\n",
       "        MAPE           MSE  \n",
       "0  24.178603  1.822866e+07  \n",
       "1  12.472961  2.260468e+07  \n",
       "2  13.824433  2.924217e+07  \n",
       "3  30.051817  1.919268e+07  \n",
       "4  11.433167  1.492983e+07  \n",
       "5  11.608644  1.596405e+07  \n",
       "6  13.864586  1.480082e+07  \n",
       "7  11.405291  1.395899e+07  \n",
       "8  13.573184  1.260741e+07  "
      ]
     },
     "execution_count": 188,
     "metadata": {},
     "output_type": "execute_result"
    }
   ],
   "source": [
    "ALL_SCORES"
   ]
  },
  {
   "cell_type": "code",
   "execution_count": null,
   "metadata": {},
   "outputs": [],
   "source": []
  }
 ],
 "metadata": {
  "kernelspec": {
   "display_name": "Python 3",
   "language": "python",
   "name": "python3"
  },
  "language_info": {
   "codemirror_mode": {
    "name": "ipython",
    "version": 3
   },
   "file_extension": ".py",
   "mimetype": "text/x-python",
   "name": "python",
   "nbconvert_exporter": "python",
   "pygments_lexer": "ipython3",
   "version": "3.7.3"
  }
 },
 "nbformat": 4,
 "nbformat_minor": 2
}
